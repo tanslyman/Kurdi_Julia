{
 "cells": [
  {
   "cell_type": "markdown",
   "id": "efea3bf9",
   "metadata": {},
   "source": [
    "# Pakete Random\n",
    "\n",
    "Pakêta Random pakêtek e ku destûrê dide me ku em bi rasthatinî hilbijêrin.\n",
    "```\n",
    "Ew dihêle ku em hem operasyonên hejmar û stringê pêk bînin."
   ]
  },
  {
   "cell_type": "code",
   "execution_count": null,
   "id": "5fc4f9d5",
   "metadata": {},
   "outputs": [],
   "source": [
    "using Pkg"
   ]
  },
  {
   "cell_type": "code",
   "execution_count": 2,
   "id": "d8ed8342",
   "metadata": {},
   "outputs": [
    {
     "name": "stderr",
     "output_type": "stream",
     "text": [
      "\u001b[32m\u001b[1m    Updating\u001b[22m\u001b[39m registry at `C:\\Users\\tanns\\.julia\\registries\\General.toml`\n"
     ]
    },
    {
     "ename": "LoadError",
     "evalue": "The following package names could not be resolved:\n * random (not found in project, manifest or registry)\n\u001b[36m   Suggestions:\u001b[39m \u001b[0m\u001b[1mR\u001b[22m\u001b[0m\u001b[1ma\u001b[22m\u001b[0m\u001b[1mn\u001b[22m\u001b[0m\u001b[1md\u001b[22m\u001b[0m\u001b[1mo\u001b[22m\u001b[0m\u001b[1mm\u001b[22m \u001b[0m\u001b[1mR\u001b[22m\u001b[0m\u001b[1ma\u001b[22m\u001b[0m\u001b[1mn\u001b[22m\u001b[0m\u001b[1md\u001b[22m\u001b[0m\u001b[1mo\u001b[22m\u001b[0m\u001b[1mm\u001b[22mV06 \u001b[0m\u001b[1mR\u001b[22m\u001b[0m\u001b[1ma\u001b[22m\u001b[0m\u001b[1mn\u001b[22m\u001b[0m\u001b[1md\u001b[22m\u001b[0m\u001b[1mo\u001b[22m\u001b[0m\u001b[1mm\u001b[22m123 \u001b[0m\u001b[1mR\u001b[22m\u001b[0m\u001b[1ma\u001b[22m\u001b[0m\u001b[1mn\u001b[22m\u001b[0m\u001b[1md\u001b[22m\u001b[0m\u001b[1mo\u001b[22m\u001b[0m\u001b[1mm\u001b[22mTweaks \u001b[0m\u001b[1mR\u001b[22m\u001b[0m\u001b[1ma\u001b[22m\u001b[0m\u001b[1mn\u001b[22m\u001b[0m\u001b[1md\u001b[22m\u001b[0m\u001b[1mo\u001b[22m\u001b[0m\u001b[1mm\u001b[22mMatrix",
     "output_type": "error",
     "traceback": [
      "The following package names could not be resolved:\n * random (not found in project, manifest or registry)\n\u001b[36m   Suggestions:\u001b[39m \u001b[0m\u001b[1mR\u001b[22m\u001b[0m\u001b[1ma\u001b[22m\u001b[0m\u001b[1mn\u001b[22m\u001b[0m\u001b[1md\u001b[22m\u001b[0m\u001b[1mo\u001b[22m\u001b[0m\u001b[1mm\u001b[22m \u001b[0m\u001b[1mR\u001b[22m\u001b[0m\u001b[1ma\u001b[22m\u001b[0m\u001b[1mn\u001b[22m\u001b[0m\u001b[1md\u001b[22m\u001b[0m\u001b[1mo\u001b[22m\u001b[0m\u001b[1mm\u001b[22mV06 \u001b[0m\u001b[1mR\u001b[22m\u001b[0m\u001b[1ma\u001b[22m\u001b[0m\u001b[1mn\u001b[22m\u001b[0m\u001b[1md\u001b[22m\u001b[0m\u001b[1mo\u001b[22m\u001b[0m\u001b[1mm\u001b[22m123 \u001b[0m\u001b[1mR\u001b[22m\u001b[0m\u001b[1ma\u001b[22m\u001b[0m\u001b[1mn\u001b[22m\u001b[0m\u001b[1md\u001b[22m\u001b[0m\u001b[1mo\u001b[22m\u001b[0m\u001b[1mm\u001b[22mTweaks \u001b[0m\u001b[1mR\u001b[22m\u001b[0m\u001b[1ma\u001b[22m\u001b[0m\u001b[1mn\u001b[22m\u001b[0m\u001b[1md\u001b[22m\u001b[0m\u001b[1mo\u001b[22m\u001b[0m\u001b[1mm\u001b[22mMatrix",
      "",
      "Stacktrace:",
      "  [1] pkgerror(msg::String)",
      "    @ Pkg.Types C:\\Users\\tanns\\AppData\\Local\\Programs\\Julia-1.8.3\\share\\julia\\stdlib\\v1.8\\Pkg\\src\\Types.jl:67",
      "  [2] ensure_resolved(ctx::Pkg.Types.Context, manifest::Pkg.Types.Manifest, pkgs::Vector{Pkg.Types.PackageSpec}; registry::Bool)",
      "    @ Pkg.Types C:\\Users\\tanns\\AppData\\Local\\Programs\\Julia-1.8.3\\share\\julia\\stdlib\\v1.8\\Pkg\\src\\Types.jl:952",
      "  [3] add(ctx::Pkg.Types.Context, pkgs::Vector{Pkg.Types.PackageSpec}; preserve::Pkg.Types.PreserveLevel, platform::Base.BinaryPlatforms.Platform, kwargs::Base.Pairs{Symbol, IJulia.IJuliaStdio{Base.PipeEndpoint}, Tuple{Symbol}, NamedTuple{(:io,), Tuple{IJulia.IJuliaStdio{Base.PipeEndpoint}}}})",
      "    @ Pkg.API C:\\Users\\tanns\\AppData\\Local\\Programs\\Julia-1.8.3\\share\\julia\\stdlib\\v1.8\\Pkg\\src\\API.jl:264",
      "  [4] add(pkgs::Vector{Pkg.Types.PackageSpec}; io::IJulia.IJuliaStdio{Base.PipeEndpoint}, kwargs::Base.Pairs{Symbol, Union{}, Tuple{}, NamedTuple{(), Tuple{}}})",
      "    @ Pkg.API C:\\Users\\tanns\\AppData\\Local\\Programs\\Julia-1.8.3\\share\\julia\\stdlib\\v1.8\\Pkg\\src\\API.jl:156",
      "  [5] add(pkgs::Vector{Pkg.Types.PackageSpec})",
      "    @ Pkg.API C:\\Users\\tanns\\AppData\\Local\\Programs\\Julia-1.8.3\\share\\julia\\stdlib\\v1.8\\Pkg\\src\\API.jl:145",
      "  [6] #add#27",
      "    @ C:\\Users\\tanns\\AppData\\Local\\Programs\\Julia-1.8.3\\share\\julia\\stdlib\\v1.8\\Pkg\\src\\API.jl:144 [inlined]",
      "  [7] add",
      "    @ C:\\Users\\tanns\\AppData\\Local\\Programs\\Julia-1.8.3\\share\\julia\\stdlib\\v1.8\\Pkg\\src\\API.jl:144 [inlined]",
      "  [8] #add#26",
      "    @ C:\\Users\\tanns\\AppData\\Local\\Programs\\Julia-1.8.3\\share\\julia\\stdlib\\v1.8\\Pkg\\src\\API.jl:143 [inlined]",
      "  [9] add(pkg::String)",
      "    @ Pkg.API C:\\Users\\tanns\\AppData\\Local\\Programs\\Julia-1.8.3\\share\\julia\\stdlib\\v1.8\\Pkg\\src\\API.jl:143",
      " [10] top-level scope",
      "    @ In[2]:1",
      " [11] eval",
      "    @ .\\boot.jl:368 [inlined]",
      " [12] include_string(mapexpr::typeof(REPL.softscope), mod::Module, code::String, filename::String)",
      "    @ Base .\\loading.jl:1428"
     ]
    }
   ],
   "source": [
    "Pkg.add(\"random\") # Paketen Rangom bar dikin"
   ]
  },
  {
   "cell_type": "code",
   "execution_count": 4,
   "id": "a6636ebe",
   "metadata": {},
   "outputs": [],
   "source": [
    "using Random # Pakete xwe nisan dikin"
   ]
  },
  {
   "cell_type": "code",
   "execution_count": 8,
   "id": "83839788",
   "metadata": {},
   "outputs": [
    {
     "name": "stdout",
     "output_type": "stream",
     "text": [
      "5\n"
     ]
    }
   ],
   "source": [
    "# Ez dibejim bila navbera 1-10 jimarek jimera bine\n",
    "\n",
    "println(rand(1:10))"
   ]
  },
  {
   "cell_type": "code",
   "execution_count": 13,
   "id": "667baa2b",
   "metadata": {},
   "outputs": [
    {
     "name": "stdout",
     "output_type": "stream",
     "text": [
      "[8, 9]\n",
      "[1, 10, 9, 2, 8, 7]\n"
     ]
    }
   ],
   "source": [
    "# 2 heb bine\n",
    "\n",
    "println(rand(1:10,2))\n",
    "\n",
    "# em dikarin xwestine xwe zede bikin\n",
    "\n",
    "println(rand(1:10,6))"
   ]
  },
  {
   "cell_type": "code",
   "execution_count": 19,
   "id": "f624de3c",
   "metadata": {},
   "outputs": [
    {
     "name": "stdout",
     "output_type": "stream",
     "text": [
      "[54, 50, 35, 6, 55, 80]\n"
     ]
    }
   ],
   "source": [
    "# Em navbera 1-100 bila jimare array bine \n",
    "\n",
    "println(rand(1:100, 6)) # Arraya yekali ye (1D)"
   ]
  },
  {
   "cell_type": "code",
   "execution_count": 21,
   "id": "dfb5b65c",
   "metadata": {},
   "outputs": [
    {
     "name": "stdout",
     "output_type": "stream",
     "text": [
      "[81 27 27 31 52; 42 64 5 1 19]\n"
     ]
    }
   ],
   "source": [
    "# Array 2x5\n",
    "println(rand(1:100, (2,5))) \n",
    "\n",
    "# bala wxe bidin hejmare veqetandine \";\""
   ]
  },
  {
   "cell_type": "code",
   "execution_count": 29,
   "id": "d16042a4",
   "metadata": {},
   "outputs": [
    {
     "name": "stdout",
     "output_type": "stream",
     "text": [
      "0.484409558742674\n"
     ]
    },
    {
     "data": {
      "text/plain": [
       "Float64"
      ]
     },
     "execution_count": 29,
     "metadata": {},
     "output_type": "execute_result"
    }
   ],
   "source": [
    "a = rand()  # deme em jimaran nisan nekin otomatik float64 qabul dike. navbera 0-1 jimare digire\n",
    "println(a)\n",
    "typeof(a)"
   ]
  },
  {
   "cell_type": "code",
   "execution_count": 34,
   "id": "8d81fb79",
   "metadata": {},
   "outputs": [
    {
     "name": "stdout",
     "output_type": "stream",
     "text": [
      "[897462314495295469, -8781232641023518230]\n"
     ]
    }
   ],
   "source": [
    "# Int\n",
    "println(rand(Int, 2))"
   ]
  },
  {
   "cell_type": "code",
   "execution_count": 37,
   "id": "52e61fb7",
   "metadata": {},
   "outputs": [
    {
     "name": "stdout",
     "output_type": "stream",
     "text": [
      "[0.0669319718055904, 0.628496456597851]\n"
     ]
    }
   ],
   "source": [
    "# float\n",
    "println(rand(Float64,2))"
   ]
  },
  {
   "cell_type": "code",
   "execution_count": 43,
   "id": "4975d6a9",
   "metadata": {},
   "outputs": [
    {
     "data": {
      "text/plain": [
       "3"
      ]
     },
     "execution_count": 43,
     "metadata": {},
     "output_type": "execute_result"
    }
   ],
   "source": [
    "# du heb daneyen\n",
    "rand((2,3))"
   ]
  },
  {
   "cell_type": "markdown",
   "id": "fc715922",
   "metadata": {},
   "source": [
    "## String"
   ]
  },
  {
   "cell_type": "code",
   "execution_count": 59,
   "id": "05f22ca5",
   "metadata": {},
   "outputs": [
    {
     "data": {
      "text/plain": [
       "\"8Id5JSe2\""
      ]
     },
     "execution_count": 59,
     "metadata": {},
     "output_type": "execute_result"
    }
   ],
   "source": [
    "# randstring() A-Z,a-z,1-9 nav wananda rasthatin tine. Em em direjbina we nisan nekin, 8 karakter direjaya we heye.\n",
    "randstring()"
   ]
  },
  {
   "cell_type": "code",
   "execution_count": 60,
   "id": "429c88b7",
   "metadata": {},
   "outputs": [
    {
     "data": {
      "text/plain": [
       "\"MY3pt\""
      ]
     },
     "execution_count": 60,
     "metadata": {},
     "output_type": "execute_result"
    }
   ],
   "source": [
    "randstring(5)"
   ]
  },
  {
   "cell_type": "markdown",
   "id": "28b9b9b0",
   "metadata": {},
   "source": [
    "Em dixwazin tipen bicuk be direja we 10 karakter be"
   ]
  },
  {
   "cell_type": "code",
   "execution_count": 62,
   "id": "83e79367",
   "metadata": {},
   "outputs": [
    {
     "data": {
      "text/plain": [
       "\"ckrcsjdgpv\""
      ]
     },
     "execution_count": 62,
     "metadata": {},
     "output_type": "execute_result"
    }
   ],
   "source": [
    "randstring('a':'z', 10)"
   ]
  },
  {
   "cell_type": "markdown",
   "id": "c7e1366d",
   "metadata": {},
   "source": [
    "Em dixwazin tipen mezin be direja we 10 karakter be"
   ]
  },
  {
   "cell_type": "code",
   "execution_count": 63,
   "id": "29699742",
   "metadata": {},
   "outputs": [
    {
     "data": {
      "text/plain": [
       "\"LQCFBEHHHS\""
      ]
     },
     "execution_count": 63,
     "metadata": {},
     "output_type": "execute_result"
    }
   ],
   "source": [
    "randstring('A':'Z', 10)"
   ]
  },
  {
   "cell_type": "markdown",
   "id": "f914b2be",
   "metadata": {},
   "source": [
    "-------------------------------------"
   ]
  },
  {
   "cell_type": "markdown",
   "id": "1d49cf8d",
   "metadata": {},
   "source": [
    "Minak:\n",
    "```\n",
    "```\n",
    "Em rasthati 10 heb jimare bixwazin 10 heb ji nave\n",
    "```\n",
    "```\n",
    "Em ferhenge(Dict) cikin bila nav kilite we be, jimar ji nirxe we bin"
   ]
  },
  {
   "cell_type": "code",
   "execution_count": 91,
   "id": "e52f5721",
   "metadata": {},
   "outputs": [
    {
     "name": "stdout",
     "output_type": "stream",
     "text": [
      "Dict{Any, Any}(\"BPUWCIZF\" => [231485], \"LPWEIIIX\" => [469541], \"QHQCAKHN\" => [955456], \"AHLHOTHB\" => [502228], \"HWTCGMVL\" => [982464], \"JNZUAEJI\" => [940865], \"RXBRJDJA\" => [218284], \"AIULCIRO\" => [128135], \"JFBUSVDO\" => [735007], \"ESVKPSRE\" => [318122])\n"
     ]
    }
   ],
   "source": [
    "b = Dict()\n",
    "for i in 1:10\n",
    "    jimar = rand(000000:999999,1)\n",
    "    nav = randstring('A':'Z',8)\n",
    "    b[nav] = jimar\n",
    "end\n",
    "println(b)"
   ]
  },
  {
   "cell_type": "code",
   "execution_count": null,
   "id": "915ad800",
   "metadata": {},
   "outputs": [],
   "source": []
  }
 ],
 "metadata": {
  "kernelspec": {
   "display_name": "Julia 1.8.3",
   "language": "julia",
   "name": "julia-1.8"
  },
  "language_info": {
   "file_extension": ".jl",
   "mimetype": "application/julia",
   "name": "julia",
   "version": "1.8.3"
  }
 },
 "nbformat": 4,
 "nbformat_minor": 5
}
