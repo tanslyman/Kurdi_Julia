{
 "cells": [
  {
   "cell_type": "markdown",
   "id": "cf230007",
   "metadata": {},
   "source": [
    "# Operasyonên Matematîkî\n",
    "1. Operatorên Arîtmetîk\n",
    "2. Berhevkirinên Hejmarî\n",
    "3. Fonksiyona"
   ]
  },
  {
   "cell_type": "markdown",
   "id": "5145c1f8",
   "metadata": {},
   "source": [
    "## Operatoren Aritmetik"
   ]
  },
  {
   "cell_type": "code",
   "execution_count": 3,
   "id": "9c35abba",
   "metadata": {},
   "outputs": [
    {
     "data": {
      "text/plain": [
       "4"
      ]
     },
     "execution_count": 3,
     "metadata": {},
     "output_type": "execute_result"
    }
   ],
   "source": [
    "# KOMAN \n",
    "2+2"
   ]
  },
  {
   "cell_type": "code",
   "execution_count": 4,
   "id": "609353d9",
   "metadata": {},
   "outputs": [
    {
     "data": {
      "text/plain": [
       "2"
      ]
     },
     "execution_count": 4,
     "metadata": {},
     "output_type": "execute_result"
    }
   ],
   "source": [
    "# KEMAN\n",
    "5 - 3"
   ]
  },
  {
   "cell_type": "code",
   "execution_count": 5,
   "id": "6fea5e80",
   "metadata": {},
   "outputs": [
    {
     "data": {
      "text/plain": [
       "20"
      ]
     },
     "execution_count": 5,
     "metadata": {},
     "output_type": "execute_result"
    }
   ],
   "source": [
    "# CARAN\n",
    "4 * 5"
   ]
  },
  {
   "cell_type": "code",
   "execution_count": 6,
   "id": "7a612022",
   "metadata": {},
   "outputs": [
    {
     "data": {
      "text/plain": [
       "5.0"
      ]
     },
     "execution_count": 6,
     "metadata": {},
     "output_type": "execute_result"
    }
   ],
   "source": [
    "# PARAN\n",
    "10 / 2"
   ]
  },
  {
   "cell_type": "code",
   "execution_count": 7,
   "id": "7ee829e5",
   "metadata": {},
   "outputs": [
    {
     "data": {
      "text/plain": [
       "25"
      ]
     },
     "execution_count": 7,
     "metadata": {},
     "output_type": "execute_result"
    }
   ],
   "source": [
    "# Jimarên Sercardar\n",
    "5 ^ 2"
   ]
  },
  {
   "cell_type": "code",
   "execution_count": 8,
   "id": "f9f8d296",
   "metadata": {},
   "outputs": [
    {
     "data": {
      "text/plain": [
       "1"
      ]
     },
     "execution_count": 8,
     "metadata": {},
     "output_type": "execute_result"
    }
   ],
   "source": [
    "# mayî hevwateya\n",
    "10 % 3"
   ]
  },
  {
   "cell_type": "markdown",
   "id": "ad20944d",
   "metadata": {},
   "source": [
    "## Numeric Comparisons"
   ]
  },
  {
   "cell_type": "code",
   "execution_count": 9,
   "id": "5d124a4c",
   "metadata": {},
   "outputs": [
    {
     "data": {
      "text/plain": [
       "true"
      ]
     },
     "execution_count": 9,
     "metadata": {},
     "output_type": "execute_result"
    }
   ],
   "source": [
    "# WEKHEVI\n",
    "\n",
    "2 == 2"
   ]
  },
  {
   "cell_type": "code",
   "execution_count": null,
   "id": "a484f3d8",
   "metadata": {},
   "outputs": [],
   "source": [
    "# NEWEKHEVI"
   ]
  },
  {
   "cell_type": "code",
   "execution_count": 10,
   "id": "0c7f954c",
   "metadata": {},
   "outputs": [
    {
     "data": {
      "text/plain": [
       "true"
      ]
     },
     "execution_count": 10,
     "metadata": {},
     "output_type": "execute_result"
    }
   ],
   "source": [
    " 2 != 3"
   ]
  },
  {
   "cell_type": "code",
   "execution_count": 11,
   "id": "662dea0c",
   "metadata": {},
   "outputs": [
    {
     "data": {
      "text/plain": [
       "true"
      ]
     },
     "execution_count": 11,
     "metadata": {},
     "output_type": "execute_result"
    }
   ],
   "source": [
    "# JI KEMTIR\n",
    "\n",
    "5 < 8"
   ]
  },
  {
   "cell_type": "code",
   "execution_count": 12,
   "id": "1ff1abb6",
   "metadata": {},
   "outputs": [
    {
     "data": {
      "text/plain": [
       "true"
      ]
     },
     "execution_count": 12,
     "metadata": {},
     "output_type": "execute_result"
    }
   ],
   "source": [
    "# KEMTIR AN WEKHEV\n",
    "\n",
    "6 <= 7"
   ]
  },
  {
   "cell_type": "code",
   "execution_count": 13,
   "id": "84b7b8cd",
   "metadata": {},
   "outputs": [
    {
     "data": {
      "text/plain": [
       "true"
      ]
     },
     "execution_count": 13,
     "metadata": {},
     "output_type": "execute_result"
    }
   ],
   "source": [
    "7 <= 7"
   ]
  },
  {
   "cell_type": "code",
   "execution_count": 14,
   "id": "30cbfd40",
   "metadata": {},
   "outputs": [
    {
     "data": {
      "text/plain": [
       "true"
      ]
     },
     "execution_count": 14,
     "metadata": {},
     "output_type": "execute_result"
    }
   ],
   "source": [
    "# JI MEZINTERE\n",
    "\n",
    "9 > 8"
   ]
  },
  {
   "cell_type": "code",
   "execution_count": null,
   "id": "654a633d",
   "metadata": {},
   "outputs": [],
   "source": [
    "# MEZINTER AN WEKHEV"
   ]
  },
  {
   "cell_type": "code",
   "execution_count": 15,
   "id": "acdac192",
   "metadata": {},
   "outputs": [
    {
     "data": {
      "text/plain": [
       "true"
      ]
     },
     "execution_count": 15,
     "metadata": {},
     "output_type": "execute_result"
    }
   ],
   "source": [
    "35 >= 35"
   ]
  },
  {
   "cell_type": "markdown",
   "id": "a6ab61d8",
   "metadata": {},
   "source": [
    "## Fonksiyon"
   ]
  },
  {
   "cell_type": "code",
   "execution_count": 17,
   "id": "30f65e11",
   "metadata": {},
   "outputs": [
    {
     "data": {
      "text/plain": [
       "4.0"
      ]
     },
     "execution_count": 17,
     "metadata": {},
     "output_type": "execute_result"
    }
   ],
   "source": [
    "# round ---> jimareya herî nêzîk\n",
    "x = 3.7\n",
    "round(x)"
   ]
  },
  {
   "cell_type": "code",
   "execution_count": 24,
   "id": "9242a8f5",
   "metadata": {},
   "outputs": [
    {
     "data": {
      "text/plain": [
       "3.0"
      ]
     },
     "execution_count": 24,
     "metadata": {},
     "output_type": "execute_result"
    }
   ],
   "source": [
    "z = 3.3\n",
    "round(z)"
   ]
  },
  {
   "cell_type": "code",
   "execution_count": 18,
   "id": "8b64e6d1",
   "metadata": {},
   "outputs": [
    {
     "data": {
      "text/plain": [
       "3.0"
      ]
     },
     "execution_count": 18,
     "metadata": {},
     "output_type": "execute_result"
    }
   ],
   "source": [
    "floor(x)"
   ]
  },
  {
   "cell_type": "code",
   "execution_count": 22,
   "id": "c273dada",
   "metadata": {},
   "outputs": [
    {
     "data": {
      "text/plain": [
       "5.0"
      ]
     },
     "execution_count": 22,
     "metadata": {},
     "output_type": "execute_result"
    }
   ],
   "source": [
    "y = 4.9\n",
    "ceil(y)"
   ]
  },
  {
   "cell_type": "code",
   "execution_count": 23,
   "id": "804c4a45",
   "metadata": {},
   "outputs": [
    {
     "data": {
      "text/plain": [
       "5.0"
      ]
     },
     "execution_count": 23,
     "metadata": {},
     "output_type": "execute_result"
    }
   ],
   "source": [
    "a = 4.1\n",
    "ceil(a)"
   ]
  },
  {
   "cell_type": "code",
   "execution_count": 27,
   "id": "0facf06d",
   "metadata": {},
   "outputs": [
    {
     "data": {
      "text/plain": [
       "3.0"
      ]
     },
     "execution_count": 27,
     "metadata": {},
     "output_type": "execute_result"
    }
   ],
   "source": [
    "b = 3.578\n",
    "trunc(b)"
   ]
  },
  {
   "cell_type": "code",
   "execution_count": 28,
   "id": "a23bf82c",
   "metadata": {},
   "outputs": [
    {
     "data": {
      "text/plain": [
       "10.0"
      ]
     },
     "execution_count": 28,
     "metadata": {},
     "output_type": "execute_result"
    }
   ],
   "source": [
    "sqrt(100) "
   ]
  },
  {
   "cell_type": "code",
   "execution_count": 30,
   "id": "0ecc6a88",
   "metadata": {},
   "outputs": [
    {
     "data": {
      "text/plain": [
       "10.0"
      ]
     },
     "execution_count": 30,
     "metadata": {},
     "output_type": "execute_result"
    }
   ],
   "source": [
    "cbrt(1000) # cube"
   ]
  },
  {
   "cell_type": "markdown",
   "id": "502f1dc7",
   "metadata": {},
   "source": [
    "# Loops\n",
    "\n",
    "1. While\n",
    "2. For Loop"
   ]
  },
  {
   "cell_type": "markdown",
   "id": "2b6d3820",
   "metadata": {},
   "source": [
    "## While\n"
   ]
  },
  {
   "cell_type": "code",
   "execution_count": 1,
   "id": "fb14fd25",
   "metadata": {},
   "outputs": [
    {
     "data": {
      "text/plain": [
       "\" Syntax\\nwhile *beqayeti*:\\n    *loop beden*\\nend\\n\""
      ]
     },
     "execution_count": 1,
     "metadata": {},
     "output_type": "execute_result"
    }
   ],
   "source": [
    "\"\"\"\n",
    " Syntax\n",
    "while *beqayeti*:\n",
    "    *loop beden*\n",
    "end\n",
    "\"\"\""
   ]
  },
  {
   "cell_type": "code",
   "execution_count": 33,
   "id": "ff5b8927",
   "metadata": {},
   "outputs": [
    {
     "name": "stdout",
     "output_type": "stream",
     "text": [
      "0\n",
      "1\n",
      "2\n",
      "3\n",
      "4\n",
      "5\n",
      "6\n",
      "7\n",
      "8\n",
      "9\n"
     ]
    }
   ],
   "source": [
    "a = 0\n",
    "while a < 10\n",
    "    println(a)\n",
    "    a = a + 1\n",
    "end"
   ]
  },
  {
   "cell_type": "code",
   "execution_count": 37,
   "id": "82c972fe",
   "metadata": {},
   "outputs": [
    {
     "name": "stdout",
     "output_type": "stream",
     "text": [
      "Merdin bajari Kurdistane ye\n",
      "Erzirom bajari Kurdistane ye\n",
      "Mahabad bajari Kurdistane ye\n",
      "Kobani bajari Kurdistane ye\n",
      "Musul bajari Kurdistane ye\n"
     ]
    }
   ],
   "source": [
    "bajar = [\"Merdin\", \"Erzirom\", \"Mahabad\", \"Kobani\", \"Musul\"]\n",
    "b = 1\n",
    "while b <= length(bajar)\n",
    "    bajareme = bajar[b]\n",
    "    println(\"$bajareme bajari Kurdistane ye\")\n",
    "    b += 1\n",
    "end"
   ]
  },
  {
   "cell_type": "code",
   "execution_count": 39,
   "id": "3f8b80ab",
   "metadata": {},
   "outputs": [
    {
     "name": "stdout",
     "output_type": "stream",
     "text": [
      "270\n"
     ]
    }
   ],
   "source": [
    "no = [11,44,23,68,90,34]\n",
    "i = 1\n",
    "koman = 0\n",
    "while i <= length(no)\n",
    "    koman += no[i]\n",
    "    i = i + 1\n",
    "end\n",
    "println(koman)\n",
    "    "
   ]
  },
  {
   "cell_type": "markdown",
   "id": "a9720588",
   "metadata": {},
   "source": [
    " \n",
    " ## For Loops"
   ]
  },
  {
   "cell_type": "code",
   "execution_count": null,
   "id": "f5bad4f0",
   "metadata": {},
   "outputs": [],
   "source": [
    "\"\"\"\n",
    " Syntax\n",
    "for i in  *loop*:\n",
    "    *loop beden*\n",
    "end\n",
    "\"\"\""
   ]
  },
  {
   "cell_type": "code",
   "execution_count": 40,
   "id": "3c56138b",
   "metadata": {},
   "outputs": [
    {
     "name": "stdout",
     "output_type": "stream",
     "text": [
      "1\n",
      "2\n",
      "3\n",
      "4\n",
      "5\n",
      "6\n"
     ]
    }
   ],
   "source": [
    "for i in 1:6\n",
    "    println(i)\n",
    "end"
   ]
  },
  {
   "cell_type": "code",
   "execution_count": 42,
   "id": "434a7f76",
   "metadata": {},
   "outputs": [
    {
     "name": "stdout",
     "output_type": "stream",
     "text": [
      "Madris paytexte welatane ye\n",
      "Paris paytexte welatane ye\n",
      "Amed paytexte welatane ye\n",
      "London paytexte welatane ye\n",
      "Moscow paytexte welatane ye\n"
     ]
    }
   ],
   "source": [
    "bajar = [\"Madrid\", \"Paris\", \"Amed\", \"London\", \"Moscow\"]\n",
    "for i in bajar\n",
    "    println(\"$i paytexte welatane ye\")\n",
    "end"
   ]
  },
  {
   "cell_type": "code",
   "execution_count": 43,
   "id": "ea88a5c7",
   "metadata": {},
   "outputs": [
    {
     "name": "stdout",
     "output_type": "stream",
     "text": [
      "270\n"
     ]
    }
   ],
   "source": [
    "no = [11,44,23,68,90,34]\n",
    "a = 0\n",
    "for i in no\n",
    "    a += i\n",
    "end\n",
    "println(a)"
   ]
  },
  {
   "cell_type": "code",
   "execution_count": 46,
   "id": "1f343221",
   "metadata": {},
   "outputs": [
    {
     "name": "stdout",
     "output_type": "stream",
     "text": [
      "1 * 1 = 1\n",
      "1 * 2 = 2\n",
      "1 * 3 = 3\n",
      "1 * 4 = 4\n",
      "1 * 5 = 5\n",
      "1 * 6 = 6\n",
      "1 * 7 = 7\n",
      "1 * 8 = 8\n",
      "1 * 9 = 9\n",
      "1 * 10 = 10\n",
      "2 * 1 = 2\n",
      "2 * 2 = 4\n",
      "2 * 3 = 6\n",
      "2 * 4 = 8\n",
      "2 * 5 = 10\n",
      "2 * 6 = 12\n",
      "2 * 7 = 14\n",
      "2 * 8 = 16\n",
      "2 * 9 = 18\n",
      "2 * 10 = 20\n",
      "3 * 1 = 3\n",
      "3 * 2 = 6\n",
      "3 * 3 = 9\n",
      "3 * 4 = 12\n",
      "3 * 5 = 15\n",
      "3 * 6 = 18\n",
      "3 * 7 = 21\n",
      "3 * 8 = 24\n",
      "3 * 9 = 27\n",
      "3 * 10 = 30\n",
      "4 * 1 = 4\n",
      "4 * 2 = 8\n",
      "4 * 3 = 12\n",
      "4 * 4 = 16\n",
      "4 * 5 = 20\n",
      "4 * 6 = 24\n",
      "4 * 7 = 28\n",
      "4 * 8 = 32\n",
      "4 * 9 = 36\n",
      "4 * 10 = 40\n",
      "5 * 1 = 5\n",
      "5 * 2 = 10\n",
      "5 * 3 = 15\n",
      "5 * 4 = 20\n",
      "5 * 5 = 25\n",
      "5 * 6 = 30\n",
      "5 * 7 = 35\n",
      "5 * 8 = 40\n",
      "5 * 9 = 45\n",
      "5 * 10 = 50\n",
      "6 * 1 = 6\n",
      "6 * 2 = 12\n",
      "6 * 3 = 18\n",
      "6 * 4 = 24\n",
      "6 * 5 = 30\n",
      "6 * 6 = 36\n",
      "6 * 7 = 42\n",
      "6 * 8 = 48\n",
      "6 * 9 = 54\n",
      "6 * 10 = 60\n",
      "7 * 1 = 7\n",
      "7 * 2 = 14\n",
      "7 * 3 = 21\n",
      "7 * 4 = 28\n",
      "7 * 5 = 35\n",
      "7 * 6 = 42\n",
      "7 * 7 = 49\n",
      "7 * 8 = 56\n",
      "7 * 9 = 63\n",
      "7 * 10 = 70\n",
      "8 * 1 = 8\n",
      "8 * 2 = 16\n",
      "8 * 3 = 24\n",
      "8 * 4 = 32\n",
      "8 * 5 = 40\n",
      "8 * 6 = 48\n",
      "8 * 7 = 56\n",
      "8 * 8 = 64\n",
      "8 * 9 = 72\n",
      "8 * 10 = 80\n",
      "9 * 1 = 9\n",
      "9 * 2 = 18\n",
      "9 * 3 = 27\n",
      "9 * 4 = 36\n",
      "9 * 5 = 45\n",
      "9 * 6 = 54\n",
      "9 * 7 = 63\n",
      "9 * 8 = 72\n",
      "9 * 9 = 81\n",
      "9 * 10 = 90\n",
      "10 * 1 = 10\n",
      "10 * 2 = 20\n",
      "10 * 3 = 30\n",
      "10 * 4 = 40\n",
      "10 * 5 = 50\n",
      "10 * 6 = 60\n",
      "10 * 7 = 70\n",
      "10 * 8 = 80\n",
      "10 * 9 = 90\n",
      "10 * 10 = 100\n"
     ]
    }
   ],
   "source": [
    "for i in 1:10\n",
    "    for j in 1:10\n",
    "        println(\"$i * $j = $(i*j)\")\n",
    "        \n",
    "    end\n",
    "    \n",
    "end"
   ]
  },
  {
   "cell_type": "code",
   "execution_count": 53,
   "id": "f6bc9427",
   "metadata": {},
   "outputs": [
    {
     "name": "stdout",
     "output_type": "stream",
     "text": [
      "pasnav >>>> kendal\n",
      "nav >>>> memed\n",
      "sal >>>> 1887\n"
     ]
    }
   ],
   "source": [
    "ferhenge = Dict(\"nav\" => \"memed\", \"pasnav\" => \"kendal\", \"sal\" => 1887)\n",
    "for i in keys(ferhenge)\n",
    "    println(i,\" >>>> \" ,ferhenge[i])\n",
    "    end"
   ]
  },
  {
   "cell_type": "code",
   "execution_count": 55,
   "id": "0418f77f",
   "metadata": {},
   "outputs": [
    {
     "name": "stdout",
     "output_type": "stream",
     "text": [
      "pasnav >>>> kendal\n",
      "nav >>>> memed\n",
      "sal >>>> 1887\n"
     ]
    }
   ],
   "source": [
    "ferhenge = Dict(\"nav\" => \"memed\", \"pasnav\" => \"kendal\", \"sal\" => 1887)\n",
    "for (a,b) in ferhenge\n",
    "    println(a,\" >>>> \" ,b)\n",
    "    end"
   ]
  },
  {
   "cell_type": "code",
   "execution_count": 57,
   "id": "960c05fe",
   "metadata": {},
   "outputs": [
    {
     "name": "stdout",
     "output_type": "stream",
     "text": [
      "12\n",
      "34\n",
      "56\n",
      "78\n"
     ]
    }
   ],
   "source": [
    "a = (12,34,56,78)\n",
    "for i in a\n",
    "    println(i)\n",
    "end"
   ]
  },
  {
   "cell_type": "markdown",
   "id": "4843ab2d",
   "metadata": {},
   "source": [
    "## break\n",
    "\n",
    "dema em dixwazin loop bidin xilaskirin, em \"break\" bikar dinin.\n"
   ]
  },
  {
   "cell_type": "code",
   "execution_count": 9,
   "id": "c741b42c",
   "metadata": {},
   "outputs": [
    {
     "name": "stdout",
     "output_type": "stream",
     "text": [
      "Loop berdewam dike\n",
      "Loop berdewam dike\n",
      "Loop berdewam dike\n",
      "Loop berdewam dike\n",
      "break, loop da rawestan i = 5\n"
     ]
    }
   ],
   "source": [
    "for i in 1:10\n",
    "    if i == 5\n",
    "        println(\"break, loop da rawestan i = $i\")\n",
    "        break\n",
    "    else\n",
    "        println(\"Loop berdewam dike\")\n",
    "    end\n",
    "    i += 1\n",
    "end\n",
    "\n",
    "        "
   ]
  },
  {
   "cell_type": "markdown",
   "id": "f59a29e5",
   "metadata": {},
   "source": [
    "### Continue\n",
    "\n",
    "Continue, loopta em qayideki nisan bikin, dema loop hat we qayideyi, ji we derbas dibe u berdewam dike"
   ]
  },
  {
   "cell_type": "code",
   "execution_count": 12,
   "id": "a881c6c7",
   "metadata": {},
   "outputs": [
    {
     "name": "stdout",
     "output_type": "stream",
     "text": [
      "1. Loop berdewam dike\n",
      "2. Loop berdewam dike\n",
      "3. Loop berdewam dike\n",
      "4. Loop berdewam dike\n",
      "6. Loop berdewam dike\n",
      "7. Loop berdewam dike\n",
      "8. Loop berdewam dike\n",
      "9. Loop berdewam dike\n",
      "10. Loop berdewam dike\n"
     ]
    }
   ],
   "source": [
    "for i in 1:10\n",
    "    if i == 5\n",
    "        \n",
    "        continue\n",
    "    else\n",
    "        println(\"$i. Loop berdewam dike\")\n",
    "    end\n",
    "    i += 1\n",
    "end"
   ]
  },
  {
   "cell_type": "markdown",
   "id": "ec0a9f07",
   "metadata": {},
   "source": [
    "Minaka jor binerin, loop dema hateye 5 ji derbas buye u berdewam kiriye"
   ]
  },
  {
   "cell_type": "code",
   "execution_count": null,
   "id": "e24a719a",
   "metadata": {},
   "outputs": [],
   "source": []
  }
 ],
 "metadata": {
  "kernelspec": {
   "display_name": "Julia 1.8.3",
   "language": "julia",
   "name": "julia-1.8"
  },
  "language_info": {
   "file_extension": ".jl",
   "mimetype": "application/julia",
   "name": "julia",
   "version": "1.8.3"
  }
 },
 "nbformat": 4,
 "nbformat_minor": 5
}
