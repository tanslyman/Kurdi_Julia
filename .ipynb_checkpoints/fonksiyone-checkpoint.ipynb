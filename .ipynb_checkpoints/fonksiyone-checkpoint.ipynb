{
 "cells": [
  {
   "cell_type": "markdown",
   "id": "c114ea72",
   "metadata": {},
   "source": [
    "# Fonksiyone\n"
   ]
  },
  {
   "cell_type": "markdown",
   "id": "914b3b3c",
   "metadata": {},
   "source": [
    "## Fonksiyonek bi îfadeya yekane\n",
    "\n",
    "Wa fonksiyona yek pêvajoyê dike"
   ]
  },
  {
   "cell_type": "code",
   "execution_count": 1,
   "id": "610d2a0a",
   "metadata": {},
   "outputs": [
    {
     "data": {
      "text/plain": [
       "yek (generic function with 1 method)"
      ]
     },
     "execution_count": 1,
     "metadata": {},
     "output_type": "execute_result"
    }
   ],
   "source": [
    "function yek()\n",
    "    println(\"Fonksiyonek bi îfadeya yekane\")\n",
    "end"
   ]
  },
  {
   "cell_type": "code",
   "execution_count": 2,
   "id": "011cc31b",
   "metadata": {},
   "outputs": [
    {
     "name": "stdout",
     "output_type": "stream",
     "text": [
      "Fonksiyonek bi îfadeya yekane\n"
     ]
    }
   ],
   "source": [
    "yek()"
   ]
  },
  {
   "cell_type": "markdown",
   "id": "8599ce79",
   "metadata": {},
   "source": [
    "# Fonksiyon bi argumanan\n",
    "\n",
    "Wa fonksiyona argumanan dixwazin"
   ]
  },
  {
   "cell_type": "code",
   "execution_count": 3,
   "id": "4fdd83b7",
   "metadata": {},
   "outputs": [
    {
     "data": {
      "text/plain": [
       "koman (generic function with 1 method)"
      ]
     },
     "execution_count": 3,
     "metadata": {},
     "output_type": "execute_result"
    }
   ],
   "source": [
    "function koman(a,b)\n",
    "    println(a + b)\n",
    "end"
   ]
  },
  {
   "cell_type": "code",
   "execution_count": 4,
   "id": "e0bcfaf8",
   "metadata": {},
   "outputs": [
    {
     "name": "stdout",
     "output_type": "stream",
     "text": [
      "11\n"
     ]
    }
   ],
   "source": [
    "koman(5,6)"
   ]
  },
  {
   "cell_type": "code",
   "execution_count": 5,
   "id": "c7f9bdfd",
   "metadata": {},
   "outputs": [
    {
     "data": {
      "text/plain": [
       "rojbas (generic function with 1 method)"
      ]
     },
     "execution_count": 5,
     "metadata": {},
     "output_type": "execute_result"
    }
   ],
   "source": [
    "function rojbas(nav)\n",
    "    \n",
    "    println(\"Rojbas $nav\")\n",
    "end"
   ]
  },
  {
   "cell_type": "code",
   "execution_count": 9,
   "id": "833a3286",
   "metadata": {},
   "outputs": [
    {
     "name": "stdout",
     "output_type": "stream",
     "text": [
      "Rojbas Serhed\n"
     ]
    }
   ],
   "source": [
    "rojbas(\"Serhed\")"
   ]
  },
  {
   "cell_type": "markdown",
   "id": "5b19b8c8",
   "metadata": {},
   "source": [
    "## Bikaranîna Vegerê di Fonksiyonek de( Return in a Function)\n",
    "\n",
    "Dema em dixwazin fonksiyona me netice ki jimare vegerine, em we netice pase di programe xwe da bikar binin. Ji bo we em fonksiyonen da \"return\" bikar ditin"
   ]
  },
  {
   "cell_type": "code",
   "execution_count": 10,
   "id": "8744d1c2",
   "metadata": {},
   "outputs": [
    {
     "data": {
      "text/plain": [
       "net (generic function with 1 method)"
      ]
     },
     "execution_count": 10,
     "metadata": {},
     "output_type": "execute_result"
    }
   ],
   "source": [
    "function net(x,y)\n",
    "    a = x * y\n",
    "    return(a)\n",
    "end"
   ]
  },
  {
   "cell_type": "code",
   "execution_count": 11,
   "id": "40de5919",
   "metadata": {},
   "outputs": [
    {
     "data": {
      "text/plain": [
       "350"
      ]
     },
     "execution_count": 11,
     "metadata": {},
     "output_type": "execute_result"
    }
   ],
   "source": [
    "net(10,35)"
   ]
  },
  {
   "cell_type": "markdown",
   "id": "17ac969f",
   "metadata": {},
   "source": [
    "### Note:\n",
    "return dawiya fonksiyone de te nivisandin. \n",
    "Em return fonksiyone dide xilaskirin. Pist we em ci binivisinin fonksiyon ew tistane nake"
   ]
  },
  {
   "cell_type": "code",
   "execution_count": 12,
   "id": "c0ff73e4",
   "metadata": {},
   "outputs": [
    {
     "data": {
      "text/plain": [
       "minak (generic function with 1 method)"
      ]
     },
     "execution_count": 12,
     "metadata": {},
     "output_type": "execute_result"
    }
   ],
   "source": [
    "function minak(v,z)\n",
    "    a = v * z\n",
    "    return(a)\n",
    "    \n",
    "    b = v + z\n",
    "    println(b)\n",
    "end"
   ]
  },
  {
   "cell_type": "code",
   "execution_count": 13,
   "id": "a15b3117",
   "metadata": {},
   "outputs": [
    {
     "data": {
      "text/plain": [
       "50"
      ]
     },
     "execution_count": 13,
     "metadata": {},
     "output_type": "execute_result"
    }
   ],
   "source": [
    "minak(5,10)"
   ]
  },
  {
   "cell_type": "markdown",
   "id": "1f711482",
   "metadata": {},
   "source": [
    "Minak jor da divinin. Pist return ne fonksiyona me println ne de xebitandin"
   ]
  },
  {
   "cell_type": "code",
   "execution_count": null,
   "id": "4de6d142",
   "metadata": {},
   "outputs": [],
   "source": [
    "\n",
    "        "
   ]
  }
 ],
 "metadata": {
  "kernelspec": {
   "display_name": "Julia 1.8.3",
   "language": "julia",
   "name": "julia-1.8"
  },
  "language_info": {
   "file_extension": ".jl",
   "mimetype": "application/julia",
   "name": "julia",
   "version": "1.8.3"
  }
 },
 "nbformat": 4,
 "nbformat_minor": 5
}
