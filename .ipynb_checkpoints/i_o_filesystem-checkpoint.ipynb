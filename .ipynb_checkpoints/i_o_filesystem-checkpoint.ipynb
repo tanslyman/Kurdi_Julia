{
 "cells": [
  {
   "cell_type": "markdown",
   "id": "0af06458",
   "metadata": {},
   "source": [
    "## Input / Output File System"
   ]
  },
  {
   "cell_type": "markdown",
   "id": "2416a280",
   "metadata": {},
   "source": [
    "#### Pelek di 5 kaideyen teni nisankiren u vekirin\n",
    "\n",
    "1. read =>\tjibo xwendin\n",
    "2. write =>\tjibo nivisandin\n",
    "3. create =>    eger du nave we peleke de pelek tune be peleke afirrandine\n",
    "4. truncate =>    ji peleke daneyen jidibirine\n",
    "5. append =>    hewl bidin ku biqedînin"
   ]
  },
  {
   "cell_type": "markdown",
   "id": "0f490bed",
   "metadata": {},
   "source": [
    "1. r\tread\tnone\n",
    "2. w\twrite,  create, truncate\twrite = true\n",
    "3. a\twrite,  create, append\tappend = true\n",
    "4. r+\tread,   write\tread = true, write = true\n",
    "5. w+\tread,   write, create, truncate\ttruncate = true, read = true\n",
    "6. a+\tread,   write, create, append\tappend = true, read = true"
   ]
  },
  {
   "cell_type": "markdown",
   "id": "98dd96bb",
   "metadata": {},
   "source": [
    "\n",
    "\n",
    "Em fermanên jêrîn bikar tînin ku pelek çêbikin"
   ]
  },
  {
   "cell_type": "code",
   "execution_count": 1,
   "id": "0ebbe430",
   "metadata": {},
   "outputs": [
    {
     "data": {
      "text/plain": [
       "IOStream(<file file1.txt>)"
      ]
     },
     "execution_count": 1,
     "metadata": {},
     "output_type": "execute_result"
    }
   ],
   "source": [
    "# Pesi nave teguherr dinivisinin.\n",
    "# open dinivisinin \n",
    "# filie1.txt nawe peleka meye\n",
    "# w ji em dibejin peleke ceke u em dinivisinin\n",
    "file = open(\"file1.txt\",\"w\")"
   ]
  },
  {
   "cell_type": "code",
   "execution_count": 2,
   "id": "688dc6ee",
   "metadata": {},
   "outputs": [
    {
     "data": {
      "text/plain": [
       "\"Navemin Welat'e\""
      ]
     },
     "execution_count": 2,
     "metadata": {},
     "output_type": "execute_result"
    }
   ],
   "source": [
    "as = \"Navemin Welat'e\" # agahiye meye"
   ]
  },
  {
   "cell_type": "code",
   "execution_count": 3,
   "id": "a21d5fc3",
   "metadata": {},
   "outputs": [
    {
     "data": {
      "text/plain": [
       "15"
      ]
     },
     "execution_count": 3,
     "metadata": {},
     "output_type": "execute_result"
    }
   ],
   "source": [
    "# write nave metode , peleke distan dinivisine\n",
    "# file nave peleke me bu\n",
    "# as agahiye me bu\n",
    "write(file,as) "
   ]
  },
  {
   "cell_type": "code",
   "execution_count": 4,
   "id": "b3e447e0",
   "metadata": {},
   "outputs": [],
   "source": [
    "# pisti hertisti gere em peleke girti be\n",
    "close(file) "
   ]
  },
  {
   "cell_type": "markdown",
   "id": "3cd66e99",
   "metadata": {},
   "source": [
    "Em dikarin peleke wxe ahaji wekin\n",
    "```\n",
    "```\n",
    "We sisteme de peleke me luzum nake em girti be. Sistem otomatik girti dike"
   ]
  },
  {
   "cell_type": "code",
   "execution_count": 5,
   "id": "aa5a4cc3",
   "metadata": {},
   "outputs": [
    {
     "data": {
      "text/plain": [
       "\"Örneğin: Bu örnekte iki dizi alıyoruz x[] dizisi bir int dizisidir ve y[] bir char dizisidir. İçeriği yazdıktan sonra readlm() fonksiyonunu kullandık.\""
      ]
     },
     "execution_count": 5,
     "metadata": {},
     "output_type": "execute_result"
    }
   ],
   "source": [
    "note = \"Örneğin: Bu örnekte iki dizi alıyoruz x[] dizisi bir int dizisidir ve y[] bir char dizisidir. İçeriği yazdıktan sonra readlm() fonksiyonunu kullandık.\""
   ]
  },
  {
   "cell_type": "code",
   "execution_count": 6,
   "id": "f381a032",
   "metadata": {},
   "outputs": [
    {
     "data": {
      "text/plain": [
       "159"
      ]
     },
     "execution_count": 6,
     "metadata": {},
     "output_type": "execute_result"
    }
   ],
   "source": [
    "open(\"myfile2.txt\",\"w\") do f\n",
    "    write(f,note)\n",
    "end\n"
   ]
  },
  {
   "cell_type": "code",
   "execution_count": null,
   "id": "32cf0d06",
   "metadata": {},
   "outputs": [],
   "source": []
  },
  {
   "cell_type": "code",
   "execution_count": 7,
   "id": "225d06ea",
   "metadata": {},
   "outputs": [
    {
     "data": {
      "text/plain": [
       "159"
      ]
     },
     "execution_count": 7,
     "metadata": {},
     "output_type": "execute_result"
    }
   ],
   "source": [
    "open(\"file.txt\", \"a+\") do ds\n",
    "    write(ds, note)\n",
    "end\n"
   ]
  },
  {
   "cell_type": "code",
   "execution_count": 8,
   "id": "27edeab9",
   "metadata": {},
   "outputs": [
    {
     "data": {
      "text/plain": [
       "\"Örneğin: Bu örnekte iki dizi alıyoruz x[] dizisi bir int dizisidir ve y[] bir char dizisidir. İçeriği yazdıktan sonra readlm() fonksiyonunu kullandık.Örneğin: Bu örnekte iki dizi alıyoruz x[] dizisi bir int dizisidir ve y[] bir char dizisidir. İçeriği yazdıktan sonra readlm() fonksiyonunu kullandık.\""
      ]
     },
     "execution_count": 8,
     "metadata": {},
     "output_type": "execute_result"
    }
   ],
   "source": [
    "s = open(\"file.txt\",\"r\") do ds\n",
    "    read(ds, String)\n",
    "end"
   ]
  },
  {
   "cell_type": "code",
   "execution_count": 9,
   "id": "0b501d4b",
   "metadata": {},
   "outputs": [
    {
     "name": "stdout",
     "output_type": "stream",
     "text": [
      "Örneğin: Bu örnekte iki dizi alıyoruz x[] dizisi bir int dizisidir ve y[] bir char dizisidir. İçeriği yazdıktan sonra readlm() fonksiyonunu kullandık.Örneğin: Bu örnekte iki dizi alıyoruz x[] dizisi bir int dizisidir ve y[] bir char dizisidir. İçeriği yazdıktan sonra readlm() fonksiyonunu kullandık."
     ]
    }
   ],
   "source": [
    "print(s)"
   ]
  },
  {
   "cell_type": "code",
   "execution_count": 10,
   "id": "66aed187",
   "metadata": {},
   "outputs": [
    {
     "data": {
      "text/plain": [
       "\"Lorem Ipsum is simply dummy text of the printing and typesetting industry. Lorem Ipsum has been the industry's standard dummy text ever since the 1500s, when an unknown printer took a galley of type and scrambled it to make a type specimen book. It has survived not only \" ⋯ 32 bytes ⋯ \"p into electronic typesetting, remaining essentially unchanged. It was popularised in the 1960s with the release of Letraset sheets containing Lorem Ipsum passages, and more recently with desktop publishing software like Aldus PageMaker including versions of Lorem Ipsum.\""
      ]
     },
     "execution_count": 10,
     "metadata": {},
     "output_type": "execute_result"
    }
   ],
   "source": [
    "lorem = \"Lorem Ipsum is simply dummy text of the printing and typesetting industry. Lorem Ipsum has been the industry's standard dummy text ever since the 1500s, when an unknown printer took a galley of type and scrambled it to make a type specimen book. It has survived not only five centuries, but also the leap into electronic typesetting, remaining essentially unchanged. It was popularised in the 1960s with the release of Letraset sheets containing Lorem Ipsum passages, and more recently with desktop publishing software like Aldus PageMaker including versions of Lorem Ipsum.\""
   ]
  },
  {
   "cell_type": "code",
   "execution_count": 22,
   "id": "4c8d8321",
   "metadata": {},
   "outputs": [],
   "source": [
    "s = open(\"lorem.txt\",\"a+\")\n",
    "write(s,lorem)\n",
    "\n",
    "close(s)"
   ]
  },
  {
   "cell_type": "code",
   "execution_count": 23,
   "id": "a0471bcf",
   "metadata": {},
   "outputs": [
    {
     "name": "stdout",
     "output_type": "stream",
     "text": [
      "Lorem Ipsum is simply dummy text of the printing and typesetting industry. Lorem Ipsum has been the industry's standard dummy text ever since the 1500s, when an unknown printer took a galley of type and scrambled it to make a type specimen book. It has survived not only five centuries, but also the leap into electronic typesetting, remaining essentially unchanged. It was popularised in the 1960s with the release of Letraset sheets containing Lorem Ipsum passages, and more recently with desktop publishing software like Aldus PageMaker including versions of Lorem Ipsum.Lorem Ipsum is simply dummy text of the printing and typesetting industry. Lorem Ipsum has been the industry's standard dummy text ever since the 1500s, when an unknown printer took a galley of type and scrambled it to make a type specimen book. It has survived not only five centuries, but also the leap into electronic typesetting, remaining essentially unchanged. It was popularised in the 1960s with the release of Letraset sheets containing Lorem Ipsum passages, and more recently with desktop publishing software like Aldus PageMaker including versions of Lorem Ipsum.Lorem Ipsum is simply dummy text of the printing and typesetting industry. Lorem Ipsum has been the industry's standard dummy text ever since the 1500s, when an unknown printer took a galley of type and scrambled it to make a type specimen book. It has survived not only five centuries, but also the leap into electronic typesetting, remaining essentially unchanged. It was popularised in the 1960s with the release of Letraset sheets containing Lorem Ipsum passages, and more recently with desktop publishing software like Aldus PageMaker including versions of Lorem Ipsum.Lorem Ipsum is simply dummy text of the printing and typesetting industry. Lorem Ipsum has been the industry's standard dummy text ever since the 1500s, when an unknown printer took a galley of type and scrambled it to make a type specimen book. It has survived not only five centuries, but also the leap into electronic typesetting, remaining essentially unchanged. It was popularised in the 1960s with the release of Letraset sheets containing Lorem Ipsum passages, and more recently with desktop publishing software like Aldus PageMaker including versions of Lorem Ipsum.Lorem Ipsum is simply dummy text of the printing and typesetting industry. Lorem Ipsum has been the industry's standard dummy text ever since the 1500s, when an unknown printer took a galley of type and scrambled it to make a type specimen book. It has survived not only five centuries, but also the leap into electronic typesetting, remaining essentially unchanged. It was popularised in the 1960s with the release of Letraset sheets containing Lorem Ipsum passages, and more recently with desktop publishing software like Aldus PageMaker including versions of Lorem Ipsum.Lorem Ipsum is simply dummy text of the printing and typesetting industry. Lorem Ipsum has been the industry's standard dummy text ever since the 1500s, when an unknown printer took a galley of type and scrambled it to make a type specimen book. It has survived not only five centuries, but also the leap into electronic typesetting, remaining essentially unchanged. It was popularised in the 1960s with the release of Letraset sheets containing Lorem Ipsum passages, and more recently with desktop publishing software like Aldus PageMaker including versions of Lorem Ipsum.Lorem Ipsum is simply dummy text of the printing and typesetting industry. Lorem Ipsum has been the industry's standard dummy text ever since the 1500s, when an unknown printer took a galley of type and scrambled it to make a type specimen book. It has survived not only five centuries, but also the leap into electronic typesetting, remaining essentially unchanged. It was popularised in the 1960s with the release of Letraset sheets containing Lorem Ipsum passages, and more recently with desktop publishing software like Aldus PageMaker including versions of Lorem Ipsum.Lorem Ipsum is simply dummy text of the printing and typesetting industry. Lorem Ipsum has been the industry's standard dummy text ever since the 1500s, when an unknown printer took a galley of type and scrambled it to make a type specimen book. It has survived not only five centuries, but also the leap into electronic typesetting, remaining essentially unchanged. It was popularised in the 1960s with the release of Letraset sheets containing Lorem Ipsum passages, and more recently with desktop publishing software like Aldus PageMaker including versions of Lorem Ipsum.\n"
     ]
    }
   ],
   "source": [
    "s_read = open(\"lorem.txt\",\"r\")\n",
    "println(read(s_read,String))\n",
    "close(s_read)"
   ]
  },
  {
   "cell_type": "code",
   "execution_count": null,
   "id": "84570444",
   "metadata": {},
   "outputs": [],
   "source": []
  },
  {
   "cell_type": "code",
   "execution_count": null,
   "id": "15482b9b",
   "metadata": {},
   "outputs": [],
   "source": []
  }
 ],
 "metadata": {
  "kernelspec": {
   "display_name": "Julia 1.8.3",
   "language": "julia",
   "name": "julia-1.8"
  },
  "language_info": {
   "file_extension": ".jl",
   "mimetype": "application/julia",
   "name": "julia",
   "version": "1.8.3"
  }
 },
 "nbformat": 4,
 "nbformat_minor": 5
}
