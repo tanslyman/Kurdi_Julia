{
 "cells": [
  {
   "cell_type": "markdown",
   "id": "333a8f97",
   "metadata": {},
   "source": [
    "# Destpekirin"
   ]
  },
  {
   "cell_type": "markdown",
   "id": "b435fdde",
   "metadata": {},
   "source": [
    "## Cava cap bike (how to print)\n",
    "\n",
    "Ji bo cap kirine Julia 'println(\" \")' bikaranin"
   ]
  },
  {
   "cell_type": "code",
   "execution_count": 1,
   "id": "dc8bcfcb",
   "metadata": {},
   "outputs": [
    {
     "name": "stdout",
     "output_type": "stream",
     "text": [
      "Zimane Kurdi pir xwese\n"
     ]
    }
   ],
   "source": [
    "println(\"Zimane Kurdi pir xwese\")"
   ]
  },
  {
   "cell_type": "code",
   "execution_count": 2,
   "id": "2a9d717b",
   "metadata": {},
   "outputs": [
    {
     "name": "stdout",
     "output_type": "stream",
     "text": [
      "Zimane Kurdi siwa \"Kurmanci\", \"Zazaki\",\"Sorani\",\"Gorani\" hene \n"
     ]
    }
   ],
   "source": [
    "println(\"\"\"Zimane Kurdi siwa \"Kurmanci\", \"Zazaki\",\"Sorani\",\"Gorani\" hene \"\"\")"
   ]
  },
  {
   "cell_type": "markdown",
   "id": "bd78d3a3",
   "metadata": {},
   "source": [
    "## Çawa şîrove bike (How to comment)"
   ]
  },
  {
   "cell_type": "code",
   "execution_count": 3,
   "id": "a6084658",
   "metadata": {},
   "outputs": [],
   "source": [
    "# li ser rêzekê şîrove bike"
   ]
  },
  {
   "cell_type": "code",
   "execution_count": 4,
   "id": "b6b45a16",
   "metadata": {},
   "outputs": [],
   "source": [
    "#=\n",
    "ji bo şîrovekirina gelek rêzan\n",
    "  \n",
    "  #=    =#  bikaranin\n",
    "\n",
    "=#"
   ]
  },
  {
   "cell_type": "markdown",
   "id": "7a07d5eb",
   "metadata": {},
   "source": [
    "## çawa guhêrbar tayîn dike\n",
    "\n",
    "### guherbar = variable \n",
    "### value = nirx\n",
    "### \"=\" wekhev\n",
    "\n",
    "guherbar divê bi tîpekê dest pê bikin,paşê em nîşana wekhev, paşê nirxê dinivîsin"
   ]
  },
  {
   "cell_type": "code",
   "execution_count": 16,
   "id": "a20025b9",
   "metadata": {},
   "outputs": [
    {
     "data": {
      "text/plain": [
       "25"
      ]
     },
     "execution_count": 16,
     "metadata": {},
     "output_type": "execute_result"
    }
   ],
   "source": [
    "ciya = 25"
   ]
  },
  {
   "cell_type": "code",
   "execution_count": 17,
   "id": "6ff6a60b",
   "metadata": {},
   "outputs": [
    {
     "data": {
      "text/plain": [
       "Int64"
      ]
     },
     "execution_count": 17,
     "metadata": {},
     "output_type": "execute_result"
    }
   ],
   "source": [
    "typeof(ciya)"
   ]
  },
  {
   "cell_type": "code",
   "execution_count": 27,
   "id": "2351e84c",
   "metadata": {},
   "outputs": [
    {
     "data": {
      "text/plain": [
       "25.0"
      ]
     },
     "execution_count": 27,
     "metadata": {},
     "output_type": "execute_result"
    }
   ],
   "source": [
    "ciya1 = convert(Float64,ciya)"
   ]
  },
  {
   "cell_type": "code",
   "execution_count": 28,
   "id": "08ed4b74",
   "metadata": {},
   "outputs": [
    {
     "data": {
      "text/plain": [
       "Float64"
      ]
     },
     "execution_count": 28,
     "metadata": {},
     "output_type": "execute_result"
    }
   ],
   "source": [
    "typeof(ciya1)"
   ]
  },
  {
   "cell_type": "code",
   "execution_count": 23,
   "id": "7639151b",
   "metadata": {},
   "outputs": [
    {
     "data": {
      "text/plain": [
       "\" Qazi Muhammed\""
      ]
     },
     "execution_count": 23,
     "metadata": {},
     "output_type": "execute_result"
    }
   ],
   "source": [
    "navemin = \" Qazi Muhammed\""
   ]
  },
  {
   "cell_type": "code",
   "execution_count": 18,
   "id": "9e9a3f0f",
   "metadata": {},
   "outputs": [
    {
     "data": {
      "text/plain": [
       "String"
      ]
     },
     "execution_count": 18,
     "metadata": {},
     "output_type": "execute_result"
    }
   ],
   "source": [
    "typeof(navemin)"
   ]
  },
  {
   "cell_type": "code",
   "execution_count": 8,
   "id": "23e2e4f3",
   "metadata": {},
   "outputs": [
    {
     "data": {
      "text/plain": [
       "10.5"
      ]
     },
     "execution_count": 8,
     "metadata": {},
     "output_type": "execute_result"
    }
   ],
   "source": [
    "nirx = 10.5"
   ]
  },
  {
   "cell_type": "code",
   "execution_count": 19,
   "id": "eecc16be",
   "metadata": {},
   "outputs": [
    {
     "data": {
      "text/plain": [
       "Float64"
      ]
     },
     "execution_count": 19,
     "metadata": {},
     "output_type": "execute_result"
    }
   ],
   "source": [
    "typeof(nirx)"
   ]
  },
  {
   "cell_type": "markdown",
   "id": "b24c8900",
   "metadata": {},
   "source": [
    "# Syntax ji bo Matematike"
   ]
  },
  {
   "cell_type": "code",
   "execution_count": 9,
   "id": "9032b44c",
   "metadata": {},
   "outputs": [
    {
     "data": {
      "text/plain": [
       "13"
      ]
     },
     "execution_count": 9,
     "metadata": {},
     "output_type": "execute_result"
    }
   ],
   "source": [
    "koman = 2 +11"
   ]
  },
  {
   "cell_type": "code",
   "execution_count": 10,
   "id": "d0a1bae2",
   "metadata": {},
   "outputs": [
    {
     "data": {
      "text/plain": [
       "20"
      ]
     },
     "execution_count": 10,
     "metadata": {},
     "output_type": "execute_result"
    }
   ],
   "source": [
    "keman = 45 - 25"
   ]
  },
  {
   "cell_type": "code",
   "execution_count": 11,
   "id": "78714bfb",
   "metadata": {},
   "outputs": [
    {
     "data": {
      "text/plain": [
       "60"
      ]
     },
     "execution_count": 11,
     "metadata": {},
     "output_type": "execute_result"
    }
   ],
   "source": [
    "caran = 5 * 12"
   ]
  },
  {
   "cell_type": "code",
   "execution_count": 12,
   "id": "6181c006",
   "metadata": {},
   "outputs": [
    {
     "data": {
      "text/plain": [
       "7.0"
      ]
     },
     "execution_count": 12,
     "metadata": {},
     "output_type": "execute_result"
    }
   ],
   "source": [
    "paran = 21 / 3"
   ]
  },
  {
   "cell_type": "code",
   "execution_count": 14,
   "id": "680456d8",
   "metadata": {},
   "outputs": [
    {
     "data": {
      "text/plain": [
       "25"
      ]
     },
     "execution_count": 14,
     "metadata": {},
     "output_type": "execute_result"
    }
   ],
   "source": [
    "Jimarên = 5 ^ 2"
   ]
  },
  {
   "cell_type": "code",
   "execution_count": 15,
   "id": "e737eced",
   "metadata": {},
   "outputs": [
    {
     "data": {
      "text/plain": [
       "1"
      ]
     },
     "execution_count": 15,
     "metadata": {},
     "output_type": "execute_result"
    }
   ],
   "source": [
    "mayi = 100 % 3"
   ]
  },
  {
   "cell_type": "markdown",
   "id": "95f4b966",
   "metadata": {},
   "source": [
    "# String\n",
    "\n",
    "Heke hûn dixwazin di hevokan de guherbaran bikar bînin, divê hûn ji bo wê $ bikar bînin."
   ]
  },
  {
   "cell_type": "code",
   "execution_count": 29,
   "id": "2a8c471d",
   "metadata": {},
   "outputs": [
    {
     "data": {
      "text/plain": [
       "2022"
      ]
     },
     "execution_count": 29,
     "metadata": {},
     "output_type": "execute_result"
    }
   ],
   "source": [
    "nav = \"Azadi\"\n",
    "rojbuna_sal = 1995\n",
    "sal = 2022"
   ]
  },
  {
   "cell_type": "code",
   "execution_count": 31,
   "id": "2072fb4e",
   "metadata": {},
   "outputs": [
    {
     "name": "stdout",
     "output_type": "stream",
     "text": [
      "nave hewale min Azadi'ye\n"
     ]
    }
   ],
   "source": [
    "println(\"nave hewale min $nav'ye\")"
   ]
  },
  {
   "cell_type": "code",
   "execution_count": 32,
   "id": "5e505af9",
   "metadata": {},
   "outputs": [
    {
     "name": "stdout",
     "output_type": "stream",
     "text": [
      "1995 ji dayika xwe de bu \n"
     ]
    }
   ],
   "source": [
    "println(\"$rojbuna_sal ji dayika xwe de bu \")"
   ]
  },
  {
   "cell_type": "code",
   "execution_count": 34,
   "id": "f2df7900",
   "metadata": {},
   "outputs": [
    {
     "name": "stdout",
     "output_type": "stream",
     "text": [
      "sal hevalimin 27 \n"
     ]
    }
   ],
   "source": [
    "println(\"sal hevali min $(sal - rojbuna_sal) \")"
   ]
  },
  {
   "cell_type": "markdown",
   "id": "614d3639",
   "metadata": {},
   "source": [
    "### Hevgirtin (String concatenation)"
   ]
  },
  {
   "cell_type": "code",
   "execution_count": 39,
   "id": "1f08db02",
   "metadata": {},
   "outputs": [
    {
     "data": {
      "text/plain": [
       "\"Ez je Amed'e\""
      ]
     },
     "execution_count": 39,
     "metadata": {},
     "output_type": "execute_result"
    }
   ],
   "source": [
    "nav = \"Navemin Delal \"\n",
    "sal = 27\n",
    "welat = \"Ez je Amed'e\""
   ]
  },
  {
   "cell_type": "code",
   "execution_count": 40,
   "id": "2bdf87f8",
   "metadata": {},
   "outputs": [
    {
     "data": {
      "text/plain": [
       "\"Navemin Delal Ez je Amed'e\""
      ]
     },
     "execution_count": 40,
     "metadata": {},
     "output_type": "execute_result"
    }
   ],
   "source": [
    "nav_welat = string(nav,welat)"
   ]
  },
  {
   "cell_type": "code",
   "execution_count": 42,
   "id": "9eabf1ce",
   "metadata": {},
   "outputs": [
    {
     "name": "stdout",
     "output_type": "stream",
     "text": [
      "Ez 27 sali me\n"
     ]
    }
   ],
   "source": [
    "println(\"Ez \",sal, \" sali me\")"
   ]
  },
  {
   "cell_type": "code",
   "execution_count": 1,
   "id": "6b8d47a3",
   "metadata": {},
   "outputs": [
    {
     "name": "stdout",
     "output_type": "stream",
     "text": [
      "16\n"
     ]
    }
   ],
   "source": [
    "# hejmara tîpan bibînin\n",
    "\n",
    "welat = \"ji bo me 2+2 = 1\"\n",
    "println(length(welat))"
   ]
  },
  {
   "cell_type": "code",
   "execution_count": 3,
   "id": "2654b3a3",
   "metadata": {},
   "outputs": [
    {
     "name": "stdout",
     "output_type": "stream",
     "text": [
      "26\n"
     ]
    }
   ],
   "source": [
    "a = \"Jupyter Notebook for Julia\"\n",
    "println(length(a))"
   ]
  },
  {
   "cell_type": "code",
   "execution_count": 16,
   "id": "c382f1de",
   "metadata": {},
   "outputs": [
    {
     "name": "stdout",
     "output_type": "stream",
     "text": [
      "true\n"
     ]
    }
   ],
   "source": [
    "# Hûn dikarin fonksiyonê bikar bînin da ku kontrol bikin ka rêzek di binê rêzek de heye an na\n",
    "\n",
    "a = \"Jupyter Notebook for Julia\"\n",
    "println(occursin(\"for\",a))"
   ]
  },
  {
   "cell_type": "code",
   "execution_count": 18,
   "id": "51077355",
   "metadata": {},
   "outputs": [
    {
     "name": "stdout",
     "output_type": "stream",
     "text": [
      "true\n"
     ]
    }
   ],
   "source": [
    "a = \"Jupyter Notebook for Julia\"\n",
    "println(occursin(\"k\",a))"
   ]
  },
  {
   "cell_type": "code",
   "execution_count": 17,
   "id": "30c85aed",
   "metadata": {},
   "outputs": [
    {
     "name": "stdout",
     "output_type": "stream",
     "text": [
      "false\n"
     ]
    }
   ],
   "source": [
    "a = \"Jupyter Notebook for Julia\"\n",
    "println(occursin(\"python\",a))"
   ]
  },
  {
   "cell_type": "code",
   "execution_count": 19,
   "id": "2de1efff",
   "metadata": {},
   "outputs": [
    {
     "name": "stdout",
     "output_type": "stream",
     "text": [
      "false\n"
     ]
    }
   ],
   "source": [
    "a = \"Jupyter Notebook for Julia\"\n",
    "println(occursin(\"m\",a))"
   ]
  },
  {
   "cell_type": "code",
   "execution_count": 20,
   "id": "640bffcd",
   "metadata": {},
   "outputs": [
    {
     "name": "stdout",
     "output_type": "stream",
     "text": [
      "HewlerHewlerHewlerHewlerHewlerHewlerHewlerHewlerHewlerHewler\n"
     ]
    }
   ],
   "source": [
    "# dubare = repeat\n",
    "\n",
    "a= \"Hewler\"\n",
    "println(repeat(a,10))"
   ]
  },
  {
   "cell_type": "code",
   "execution_count": 25,
   "id": "96f49fd6",
   "metadata": {},
   "outputs": [
    {
     "name": "stdout",
     "output_type": "stream",
     "text": [
      "Qazi Muhammed, Mele Mustafa Barzani and Abdurrahman Qasimlo\n"
     ]
    }
   ],
   "source": [
    "# fonksiyone Join\n",
    "name = [\"Qazi Muhammed\",\"Mele Mustafa Barzani\", \"Abdurrahman Qasimlo\"]\n",
    "println(join(name,\", \",\" and \"))"
   ]
  },
  {
   "cell_type": "code",
   "execution_count": null,
   "id": "fbc6ddec",
   "metadata": {},
   "outputs": [],
   "source": []
  }
 ],
 "metadata": {
  "kernelspec": {
   "display_name": "Julia 1.8.3",
   "language": "julia",
   "name": "julia-1.8"
  },
  "language_info": {
   "file_extension": ".jl",
   "mimetype": "application/julia",
   "name": "julia",
   "version": "1.8.3"
  }
 },
 "nbformat": 4,
 "nbformat_minor": 5
}
