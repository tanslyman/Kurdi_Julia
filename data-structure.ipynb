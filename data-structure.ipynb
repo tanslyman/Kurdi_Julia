{
 "cells": [
  {
   "cell_type": "markdown",
   "id": "2494a58f",
   "metadata": {},
   "source": [
    "# Data Structures \n",
    "\n",
    "Ew strukturên daneyê ne ku em tê de ji yekê zêdetir daneyan digirin.\n",
    "\n",
    "1. Tuples\n",
    "2. Dictionaries\n",
    "3. Arrays"
   ]
  },
  {
   "cell_type": "markdown",
   "id": "2b9e5374",
   "metadata": {},
   "source": [
    "## Tuples \n",
    "\n",
    "1. Hûn dikarin nirxan di nav Tuples de biparêzin\n",
    "2. Tuples naye guhertin.\n",
    "3. Tuples di nav parantezê de têne girtin û bi koman têne veqetandin\n",
    "4. Em dikarin daneyan bi indexê bibînin"
   ]
  },
  {
   "cell_type": "code",
   "execution_count": 6,
   "id": "dcc76ff4",
   "metadata": {},
   "outputs": [
    {
     "data": {
      "text/plain": [
       "(\"Merdin\", \"Amed\", \"Colamerg\", 4, 7)"
      ]
     },
     "execution_count": 6,
     "metadata": {},
     "output_type": "execute_result"
    }
   ],
   "source": [
    "bajar = (\"Merdin\", \"Amed\", \"Colamerg\",4,7)\n",
    "bajar"
   ]
  },
  {
   "cell_type": "code",
   "execution_count": 8,
   "id": "b0204b39",
   "metadata": {},
   "outputs": [
    {
     "data": {
      "text/plain": [
       "\"Colamerg\""
      ]
     },
     "execution_count": 8,
     "metadata": {},
     "output_type": "execute_result"
    }
   ],
   "source": [
    "bajar[3]\n"
   ]
  },
  {
   "cell_type": "code",
   "execution_count": 10,
   "id": "2fcd853d",
   "metadata": {},
   "outputs": [
    {
     "data": {
      "text/plain": [
       "\"Merdin\""
      ]
     },
     "execution_count": 10,
     "metadata": {},
     "output_type": "execute_result"
    }
   ],
   "source": [
    "bajar[1]"
   ]
  },
  {
   "cell_type": "code",
   "execution_count": 17,
   "id": "53f5ca0e",
   "metadata": {},
   "outputs": [
    {
     "data": {
      "text/plain": [
       "Tuple{String, String, String, Int64, Int64}"
      ]
     },
     "execution_count": 17,
     "metadata": {},
     "output_type": "execute_result"
    }
   ],
   "source": [
    "typeof(bajar)"
   ]
  },
  {
   "cell_type": "markdown",
   "id": "1cc1d893",
   "metadata": {},
   "source": [
    "### Named Tuples\n",
    "Hun dikaren nav bidin tuples xwe"
   ]
  },
  {
   "cell_type": "code",
   "execution_count": 12,
   "id": "4abadc33",
   "metadata": {},
   "outputs": [
    {
     "data": {
      "text/plain": [
       "(nav = \"agit\", pasnav = \"serhed\", sal = 1996)"
      ]
     },
     "execution_count": 12,
     "metadata": {},
     "output_type": "execute_result"
    }
   ],
   "source": [
    "nav_tuples = (nav=\"agit\", pasnav = \"serhed\", sal = 1996)\n",
    "nav_tuples"
   ]
  },
  {
   "cell_type": "code",
   "execution_count": 14,
   "id": "2a2b3dde",
   "metadata": {},
   "outputs": [
    {
     "data": {
      "text/plain": [
       "\"agit\""
      ]
     },
     "execution_count": 14,
     "metadata": {},
     "output_type": "execute_result"
    }
   ],
   "source": [
    "nav_tuples.nav"
   ]
  },
  {
   "cell_type": "code",
   "execution_count": 15,
   "id": "9c33348e",
   "metadata": {},
   "outputs": [
    {
     "data": {
      "text/plain": [
       "\"serhed\""
      ]
     },
     "execution_count": 15,
     "metadata": {},
     "output_type": "execute_result"
    }
   ],
   "source": [
    "nav_tuples.pasnav"
   ]
  },
  {
   "cell_type": "code",
   "execution_count": 16,
   "id": "dff5af7b",
   "metadata": {},
   "outputs": [
    {
     "data": {
      "text/plain": [
       "1996"
      ]
     },
     "execution_count": 16,
     "metadata": {},
     "output_type": "execute_result"
    }
   ],
   "source": [
    "nav_tuples.sal"
   ]
  },
  {
   "cell_type": "markdown",
   "id": "a93bafe3",
   "metadata": {},
   "source": [
    "## Dictionaries (Ferhenge)\n",
    "\n",
    "1. Heke hûn dixwazin di julia de ferhengên biafirînin, divê hûn ji bo Dict() bikar bînin.\n",
    "2. Dict() kilit-nirx (key-value) heye\n",
    "\n",
    "Syntax\n",
    "Dict(key =>value, kilit => nirx)"
   ]
  },
  {
   "cell_type": "code",
   "execution_count": 1,
   "id": "2d9fa970",
   "metadata": {},
   "outputs": [
    {
     "data": {
      "text/plain": [
       "Dict{String, String} with 3 entries:\n",
       "  \"England\" => \"London\"\n",
       "  \"France\"  => \"Paris\"\n",
       "  \"Japan\"   => \"Tokyo\""
      ]
     },
     "execution_count": 1,
     "metadata": {},
     "output_type": "execute_result"
    }
   ],
   "source": [
    "paytext = Dict(\"France\" => \"Paris\", \"England\" => \"London\", \"Japan\" => \"Tokyo\")\n",
    "paytext"
   ]
  },
  {
   "cell_type": "code",
   "execution_count": 2,
   "id": "7042505d",
   "metadata": {},
   "outputs": [
    {
     "data": {
      "text/plain": [
       "Dict{String, String}"
      ]
     },
     "execution_count": 2,
     "metadata": {},
     "output_type": "execute_result"
    }
   ],
   "source": [
    "typeof(paytext)"
   ]
  },
  {
   "cell_type": "markdown",
   "id": "cc32e8a6",
   "metadata": {},
   "source": [
    " Em dikarin di ve minale de paytexta England bibnin"
   ]
  },
  {
   "cell_type": "code",
   "execution_count": 3,
   "id": "7a7d4ef2",
   "metadata": {},
   "outputs": [
    {
     "data": {
      "text/plain": [
       "\"Paris\""
      ]
     },
     "execution_count": 3,
     "metadata": {},
     "output_type": "execute_result"
    }
   ],
   "source": [
    "paytext[\"France\"]"
   ]
  },
  {
   "cell_type": "code",
   "execution_count": 4,
   "id": "3f49b0d7",
   "metadata": {},
   "outputs": [
    {
     "data": {
      "text/plain": [
       "\"London\""
      ]
     },
     "execution_count": 4,
     "metadata": {},
     "output_type": "execute_result"
    }
   ],
   "source": [
    "paytext[\"England\"]"
   ]
  },
  {
   "cell_type": "markdown",
   "id": "af7137b9",
   "metadata": {},
   "source": [
    "em dikarin nirxên din li ferhengê zêde bikin\n"
   ]
  },
  {
   "cell_type": "code",
   "execution_count": 5,
   "id": "34c971ac",
   "metadata": {},
   "outputs": [
    {
     "data": {
      "text/plain": [
       "\"Moscow\""
      ]
     },
     "execution_count": 5,
     "metadata": {},
     "output_type": "execute_result"
    }
   ],
   "source": [
    "paytext[\"Russian\"] = \"Moscow\""
   ]
  },
  {
   "cell_type": "code",
   "execution_count": 6,
   "id": "c882a43e",
   "metadata": {},
   "outputs": [
    {
     "data": {
      "text/plain": [
       "Dict{String, String} with 4 entries:\n",
       "  \"Russian\" => \"Moscow\"\n",
       "  \"England\" => \"London\"\n",
       "  \"France\"  => \"Paris\"\n",
       "  \"Japan\"   => \"Tokyo\""
      ]
     },
     "execution_count": 6,
     "metadata": {},
     "output_type": "execute_result"
    }
   ],
   "source": [
    "paytext"
   ]
  },
  {
   "cell_type": "code",
   "execution_count": 7,
   "id": "63de4bb9",
   "metadata": {},
   "outputs": [
    {
     "data": {
      "text/plain": [
       "\"Lisbon\""
      ]
     },
     "execution_count": 7,
     "metadata": {},
     "output_type": "execute_result"
    }
   ],
   "source": [
    "paytext[\"Portugal\"] = \"Lisbon\""
   ]
  },
  {
   "cell_type": "code",
   "execution_count": 8,
   "id": "fb4f1cf0",
   "metadata": {},
   "outputs": [
    {
     "data": {
      "text/plain": [
       "Dict{String, String} with 5 entries:\n",
       "  \"Russian\"  => \"Moscow\"\n",
       "  \"Portugal\" => \"Lisbon\"\n",
       "  \"England\"  => \"London\"\n",
       "  \"France\"   => \"Paris\"\n",
       "  \"Japan\"    => \"Tokyo\""
      ]
     },
     "execution_count": 8,
     "metadata": {},
     "output_type": "execute_result"
    }
   ],
   "source": [
    "paytext"
   ]
  },
  {
   "cell_type": "markdown",
   "id": "bb9104b1",
   "metadata": {},
   "source": [
    "Dema ku em bixwazin daneyan jêbirin, em ê \"pop!\" bikar bînin.\n",
    "Minak: Em France jebirin"
   ]
  },
  {
   "cell_type": "code",
   "execution_count": 9,
   "id": "08b60125",
   "metadata": {},
   "outputs": [
    {
     "data": {
      "text/plain": [
       "Dict{String, String} with 5 entries:\n",
       "  \"Russian\"  => \"Moscow\"\n",
       "  \"Portugal\" => \"Lisbon\"\n",
       "  \"England\"  => \"London\"\n",
       "  \"France\"   => \"Paris\"\n",
       "  \"Japan\"    => \"Tokyo\""
      ]
     },
     "execution_count": 9,
     "metadata": {},
     "output_type": "execute_result"
    }
   ],
   "source": [
    "paytext"
   ]
  },
  {
   "cell_type": "code",
   "execution_count": 10,
   "id": "bf4cdd41",
   "metadata": {},
   "outputs": [
    {
     "data": {
      "text/plain": [
       "\"Paris\""
      ]
     },
     "execution_count": 10,
     "metadata": {},
     "output_type": "execute_result"
    }
   ],
   "source": [
    "pop!(paytext,\"France\")"
   ]
  },
  {
   "cell_type": "code",
   "execution_count": 11,
   "id": "db7bec4e",
   "metadata": {},
   "outputs": [
    {
     "data": {
      "text/plain": [
       "Dict{String, String} with 4 entries:\n",
       "  \"Russian\"  => \"Moscow\"\n",
       "  \"Portugal\" => \"Lisbon\"\n",
       "  \"England\"  => \"London\"\n",
       "  \"Japan\"    => \"Tokyo\""
      ]
     },
     "execution_count": 11,
     "metadata": {},
     "output_type": "execute_result"
    }
   ],
   "source": [
    "paytext"
   ]
  },
  {
   "cell_type": "markdown",
   "id": "700682a4",
   "metadata": {},
   "source": [
    "heke hûn dixwazin \"delete!\" bikar bînin! ji bo jêbirina daneyan"
   ]
  },
  {
   "cell_type": "code",
   "execution_count": 12,
   "id": "747fdcf7",
   "metadata": {},
   "outputs": [
    {
     "data": {
      "text/plain": [
       "Dict{String, String} with 3 entries:\n",
       "  \"Russian\"  => \"Moscow\"\n",
       "  \"Portugal\" => \"Lisbon\"\n",
       "  \"Japan\"    => \"Tokyo\""
      ]
     },
     "execution_count": 12,
     "metadata": {},
     "output_type": "execute_result"
    }
   ],
   "source": [
    "delete!(paytext,\"England\")"
   ]
  },
  {
   "cell_type": "markdown",
   "id": "aa9f771d",
   "metadata": {},
   "source": [
    "------------------------------------------------------------------------------------------------------------"
   ]
  },
  {
   "cell_type": "markdown",
   "id": "2bf9e0e5",
   "metadata": {},
   "source": [
    "\n",
    "get():\n",
    "\n",
    "Rêbaza get() dihêle ku em di ferhengê de nirxa ku em dixwazin bistînin. Ger ew nirx tune be, nirxa ku em dixwazin nîşanî me dide."
   ]
  },
  {
   "cell_type": "code",
   "execution_count": 13,
   "id": "9e23cfcd",
   "metadata": {},
   "outputs": [
    {
     "data": {
      "text/plain": [
       "Dict{String, String} with 3 entries:\n",
       "  \"Russian\"  => \"Moscow\"\n",
       "  \"Portugal\" => \"Lisbon\"\n",
       "  \"Japan\"    => \"Tokyo\""
      ]
     },
     "execution_count": 13,
     "metadata": {},
     "output_type": "execute_result"
    }
   ],
   "source": [
    "paytext"
   ]
  },
  {
   "cell_type": "markdown",
   "id": "6452a8c0",
   "metadata": {},
   "source": [
    " "
   ]
  },
  {
   "cell_type": "code",
   "execution_count": 14,
   "id": "e8a386dd",
   "metadata": {},
   "outputs": [
    {
     "data": {
      "text/plain": [
       "\"Moscow\""
      ]
     },
     "execution_count": 14,
     "metadata": {},
     "output_type": "execute_result"
    }
   ],
   "source": [
    "# Di ferhenge da Russian heye, ji bo we ji mera Moscow vedigerine\n",
    "get(paytext,\"Russian\",2)"
   ]
  },
  {
   "cell_type": "code",
   "execution_count": 15,
   "id": "c0b60754",
   "metadata": {},
   "outputs": [
    {
     "data": {
      "text/plain": [
       "25"
      ]
     },
     "execution_count": 15,
     "metadata": {},
     "output_type": "execute_result"
    }
   ],
   "source": [
    "# ija em Brazil bixazin, eger tune be bila 25 binivisine\n",
    "get(paytext,\"Brazil\", 25)"
   ]
  },
  {
   "cell_type": "code",
   "execution_count": 16,
   "id": "869a0241",
   "metadata": {},
   "outputs": [
    {
     "data": {
      "text/plain": [
       "Dict{String, String} with 3 entries:\n",
       "  \"Russian\"  => \"Moscow\"\n",
       "  \"Portugal\" => \"Lisbon\"\n",
       "  \"Japan\"    => \"Tokyo\""
      ]
     },
     "execution_count": 16,
     "metadata": {},
     "output_type": "execute_result"
    }
   ],
   "source": [
    "paytext"
   ]
  },
  {
   "cell_type": "code",
   "execution_count": 17,
   "id": "abca778d",
   "metadata": {},
   "outputs": [
    {
     "data": {
      "text/plain": [
       "\"Kiew\""
      ]
     },
     "execution_count": 17,
     "metadata": {},
     "output_type": "execute_result"
    }
   ],
   "source": [
    "get(paytext,\"Ukraine\",\"Kiew\")"
   ]
  },
  {
   "cell_type": "code",
   "execution_count": 18,
   "id": "f96a909c",
   "metadata": {},
   "outputs": [
    {
     "data": {
      "text/plain": [
       "\"naverok nahet ditin\""
      ]
     },
     "execution_count": 18,
     "metadata": {},
     "output_type": "execute_result"
    }
   ],
   "source": [
    "get(paytext,\"Ukraine\",\"naverok nahet ditin\")"
   ]
  },
  {
   "cell_type": "code",
   "execution_count": 19,
   "id": "1eb66587",
   "metadata": {},
   "outputs": [
    {
     "data": {
      "text/plain": [
       "Dict{String, String} with 3 entries:\n",
       "  \"Russian\"  => \"Moscow\"\n",
       "  \"Portugal\" => \"Lisbon\"\n",
       "  \"Japan\"    => \"Tokyo\""
      ]
     },
     "execution_count": 19,
     "metadata": {},
     "output_type": "execute_result"
    }
   ],
   "source": [
    "paytext"
   ]
  },
  {
   "cell_type": "markdown",
   "id": "c95ba680",
   "metadata": {},
   "source": [
    "\n",
    "\n",
    "get!()\n",
    "\n",
    "Em dixwazin bila nirx jimera vegare, dema nirx tune be, em tistek binivisinin, bila nirxe me ew be"
   ]
  },
  {
   "cell_type": "code",
   "execution_count": 20,
   "id": "1c1dab2a",
   "metadata": {},
   "outputs": [
    {
     "data": {
      "text/plain": [
       "\"Amed\""
      ]
     },
     "execution_count": 20,
     "metadata": {},
     "output_type": "execute_result"
    }
   ],
   "source": [
    "get!(paytext, \"Kurdistan\",\"Amed\")"
   ]
  },
  {
   "cell_type": "code",
   "execution_count": 21,
   "id": "69d6db7b",
   "metadata": {},
   "outputs": [
    {
     "data": {
      "text/plain": [
       "Dict{String, String} with 4 entries:\n",
       "  \"Kurdistan\" => \"Amed\"\n",
       "  \"Russian\"   => \"Moscow\"\n",
       "  \"Portugal\"  => \"Lisbon\"\n",
       "  \"Japan\"     => \"Tokyo\""
      ]
     },
     "execution_count": 21,
     "metadata": {},
     "output_type": "execute_result"
    }
   ],
   "source": [
    "paytext"
   ]
  },
  {
   "cell_type": "code",
   "execution_count": 22,
   "id": "3ec18fca",
   "metadata": {},
   "outputs": [
    {
     "data": {
      "text/plain": [
       "Dict{String, String} with 4 entries:\n",
       "  \"Kurdistan\" => \"Amed\"\n",
       "  \"Russian\"   => \"Moscow\"\n",
       "  \"Portugal\"  => \"Lisbon\"\n",
       "  \"Japan\"     => \"Tokyo\""
      ]
     },
     "execution_count": 22,
     "metadata": {},
     "output_type": "execute_result"
    }
   ],
   "source": [
    "paytext"
   ]
  },
  {
   "cell_type": "markdown",
   "id": "940977d1",
   "metadata": {},
   "source": [
    "\n",
    "# Arrays\n",
    "\n",
    "1. Me nikaribu Tuples biguherînin, le em dikarin arrays biguherinin\n",
    "2. Array nav [] te nivisandin, koman ra vedigetinin\n",
    "\n",
    "Syntax\n",
    "[1,2,6,8]"
   ]
  },
  {
   "cell_type": "code",
   "execution_count": 1,
   "id": "e62e2d17",
   "metadata": {},
   "outputs": [
    {
     "data": {
      "text/plain": [
       "5-element Vector{String}:\n",
       " \"Mahabad\"\n",
       " \"Dersim\"\n",
       " \"Merdin\"\n",
       " \"Erzirom\"\n",
       " \"Kobani\""
      ]
     },
     "execution_count": 1,
     "metadata": {},
     "output_type": "execute_result"
    }
   ],
   "source": [
    "bajar = [\"Mahabad\",\"Dersim\",\"Merdin\",\"Erzirom\",\"Kobani\"]"
   ]
  },
  {
   "cell_type": "code",
   "execution_count": 3,
   "id": "6dd89e48",
   "metadata": {},
   "outputs": [
    {
     "data": {
      "text/plain": [
       "5-element Vector{Int64}:\n",
       "  1\n",
       "  4\n",
       "  6\n",
       "  8\n",
       " 10"
      ]
     },
     "execution_count": 3,
     "metadata": {},
     "output_type": "execute_result"
    }
   ],
   "source": [
    "a = [1,4,6,8,10]"
   ]
  },
  {
   "cell_type": "markdown",
   "id": "28fa32ae",
   "metadata": {},
   "source": [
    "Em index nisan bikin, em dikarin daneyen binin"
   ]
  },
  {
   "cell_type": "code",
   "execution_count": 23,
   "id": "ffc2a82d",
   "metadata": {},
   "outputs": [
    {
     "data": {
      "text/plain": [
       "6"
      ]
     },
     "execution_count": 23,
     "metadata": {},
     "output_type": "execute_result"
    }
   ],
   "source": [
    "a[3]"
   ]
  },
  {
   "cell_type": "code",
   "execution_count": 25,
   "id": "e84dc2e9",
   "metadata": {},
   "outputs": [
    {
     "data": {
      "text/plain": [
       "10"
      ]
     },
     "execution_count": 25,
     "metadata": {},
     "output_type": "execute_result"
    }
   ],
   "source": [
    "a[5]"
   ]
  },
  {
   "cell_type": "code",
   "execution_count": 4,
   "id": "4089ba8b",
   "metadata": {},
   "outputs": [
    {
     "data": {
      "text/plain": [
       "3-element Vector{Float64}:\n",
       "  2.5\n",
       "  4.6\n",
       " 11.9"
      ]
     },
     "execution_count": 4,
     "metadata": {},
     "output_type": "execute_result"
    }
   ],
   "source": [
    "b = [2.5, 4.6, 11.9]"
   ]
  },
  {
   "cell_type": "markdown",
   "id": "43789c04",
   "metadata": {},
   "source": [
    "Dema em nizanin hindure array da cend hav daneyen hene, em dikarin bi \"length\" hin bibin"
   ]
  },
  {
   "cell_type": "code",
   "execution_count": 26,
   "id": "1a7d83af",
   "metadata": {},
   "outputs": [
    {
     "data": {
      "text/plain": [
       "3"
      ]
     },
     "execution_count": 26,
     "metadata": {},
     "output_type": "execute_result"
    }
   ],
   "source": [
    "length(b)"
   ]
  },
  {
   "cell_type": "code",
   "execution_count": 5,
   "id": "3f7c654f",
   "metadata": {},
   "outputs": [
    {
     "data": {
      "text/plain": [
       "4-element Vector{Any}:\n",
       " 1\n",
       " 2.5\n",
       "  \"Delal\"\n",
       "  \"g\""
      ]
     },
     "execution_count": 5,
     "metadata": {},
     "output_type": "execute_result"
    }
   ],
   "source": [
    "c = [1,2.5,\"Delal\",\"g\"]"
   ]
  },
  {
   "cell_type": "code",
   "execution_count": 16,
   "id": "5f994507",
   "metadata": {},
   "outputs": [
    {
     "data": {
      "text/plain": [
       "5-element Vector{Int64}:\n",
       "  1\n",
       "  4\n",
       "  6\n",
       "  8\n",
       " 10"
      ]
     },
     "execution_count": 16,
     "metadata": {},
     "output_type": "execute_result"
    }
   ],
   "source": [
    "nu_array = [1,4,6,8,10]"
   ]
  },
  {
   "cell_type": "markdown",
   "id": "ce2168db",
   "metadata": {},
   "source": [
    "Em index we nisan biken, em dikarin daneyek biguherinin"
   ]
  },
  {
   "cell_type": "code",
   "execution_count": 18,
   "id": "0731c297",
   "metadata": {},
   "outputs": [
    {
     "data": {
      "text/plain": [
       "3"
      ]
     },
     "execution_count": 18,
     "metadata": {},
     "output_type": "execute_result"
    }
   ],
   "source": [
    "nu_array[2] = 3"
   ]
  },
  {
   "cell_type": "code",
   "execution_count": 19,
   "id": "92bbf7d7",
   "metadata": {},
   "outputs": [
    {
     "data": {
      "text/plain": [
       "5-element Vector{Int64}:\n",
       "  1\n",
       "  3\n",
       "  6\n",
       "  8\n",
       " 10"
      ]
     },
     "execution_count": 19,
     "metadata": {},
     "output_type": "execute_result"
    }
   ],
   "source": [
    "nu_array"
   ]
  },
  {
   "cell_type": "markdown",
   "id": "eec56cfa",
   "metadata": {},
   "source": [
    "Dema em dixazin array da daneyek zede bikin em \"push!\" bikar binin. push! daneyek nu tine dawiye we, array zede dike"
   ]
  },
  {
   "cell_type": "code",
   "execution_count": 20,
   "id": "8e89caec",
   "metadata": {},
   "outputs": [
    {
     "data": {
      "text/plain": [
       "6-element Vector{Int64}:\n",
       "   1\n",
       "   3\n",
       "   6\n",
       "   8\n",
       "  10\n",
       " 100"
      ]
     },
     "execution_count": 20,
     "metadata": {},
     "output_type": "execute_result"
    }
   ],
   "source": [
    "push!(nu_array,100)"
   ]
  },
  {
   "cell_type": "markdown",
   "id": "e353fe3c",
   "metadata": {},
   "source": [
    "======================================\n",
    "\n",
    "pop! di array da en dawiye kijane awi ji dibe"
   ]
  },
  {
   "cell_type": "code",
   "execution_count": 21,
   "id": "eb78bf05",
   "metadata": {},
   "outputs": [
    {
     "data": {
      "text/plain": [
       "100"
      ]
     },
     "execution_count": 21,
     "metadata": {},
     "output_type": "execute_result"
    }
   ],
   "source": [
    "pop!(nu_array)"
   ]
  },
  {
   "cell_type": "code",
   "execution_count": 22,
   "id": "93c14b34",
   "metadata": {},
   "outputs": [
    {
     "data": {
      "text/plain": [
       "5-element Vector{Int64}:\n",
       "  1\n",
       "  3\n",
       "  6\n",
       "  8\n",
       " 10"
      ]
     },
     "execution_count": 22,
     "metadata": {},
     "output_type": "execute_result"
    }
   ],
   "source": [
    "nu_array"
   ]
  },
  {
   "cell_type": "markdown",
   "id": "d2f4f3a5",
   "metadata": {},
   "source": [
    "Minak, Em bijen array me da 20 daneyen hene. Em dixazin indexa 54da hata index 14'dan binin. \n",
    "Array gistike ne, qelfeki binen. Em awi caxi aha dikin."
   ]
  },
  {
   "cell_type": "code",
   "execution_count": 37,
   "id": "107c24e9",
   "metadata": {},
   "outputs": [
    {
     "data": {
      "text/plain": [
       "10-element Vector{Int64}:\n",
       " 11\n",
       " 34\n",
       " 23\n",
       " 53\n",
       " 56\n",
       " 67\n",
       " 68\n",
       " 89\n",
       " 45\n",
       " 33"
      ]
     },
     "execution_count": 37,
     "metadata": {},
     "output_type": "execute_result"
    }
   ],
   "source": [
    "minak = [1,3,6,8,11,34,23,53,56,67,68,89,45,33,25,99,57,98,94,100]\n",
    "minak[5:14]"
   ]
  },
  {
   "cell_type": "markdown",
   "id": "eacd3672",
   "metadata": {},
   "source": [
    "Em bijen gistiki dixwazin"
   ]
  },
  {
   "cell_type": "code",
   "execution_count": 38,
   "id": "ef186904",
   "metadata": {},
   "outputs": [
    {
     "data": {
      "text/plain": [
       "20-element Vector{Int64}:\n",
       "   1\n",
       "   3\n",
       "   6\n",
       "   8\n",
       "  11\n",
       "  34\n",
       "  23\n",
       "  53\n",
       "  56\n",
       "  67\n",
       "  68\n",
       "  89\n",
       "  45\n",
       "  33\n",
       "  25\n",
       "  99\n",
       "  57\n",
       "  98\n",
       "  94\n",
       " 100"
      ]
     },
     "execution_count": 38,
     "metadata": {},
     "output_type": "execute_result"
    }
   ],
   "source": [
    "minak[:]"
   ]
  },
  {
   "cell_type": "markdown",
   "id": "1f12d594",
   "metadata": {},
   "source": [
    "Dema em dixwazin array xwe cep vegerinin"
   ]
  },
  {
   "cell_type": "code",
   "execution_count": 39,
   "id": "197843a6",
   "metadata": {},
   "outputs": [
    {
     "data": {
      "text/plain": [
       "20-element Vector{Int64}:\n",
       " 100\n",
       "  94\n",
       "  98\n",
       "  57\n",
       "  99\n",
       "  25\n",
       "  33\n",
       "  45\n",
       "  89\n",
       "  68\n",
       "  67\n",
       "  56\n",
       "  53\n",
       "  23\n",
       "  34\n",
       "  11\n",
       "   8\n",
       "   6\n",
       "   3\n",
       "   1"
      ]
     },
     "execution_count": 39,
     "metadata": {},
     "output_type": "execute_result"
    }
   ],
   "source": [
    "reverse(minak)"
   ]
  },
  {
   "cell_type": "markdown",
   "id": "bf155637",
   "metadata": {},
   "source": [
    "eger array'a me dane we int ya ji float be em dikaren wa daneyan koman bikin. Ji bo koman em \"sum\" bikar tinin"
   ]
  },
  {
   "cell_type": "code",
   "execution_count": 41,
   "id": "bd6dad65",
   "metadata": {},
   "outputs": [
    {
     "data": {
      "text/plain": [
       "970"
      ]
     },
     "execution_count": 41,
     "metadata": {},
     "output_type": "execute_result"
    }
   ],
   "source": [
    "sum(minak)"
   ]
  },
  {
   "cell_type": "markdown",
   "id": "ad4b3732",
   "metadata": {},
   "source": [
    "Hate anika tistek me cikiri ye, ew array'a yekali(1D) bu. Em dikarin du-ali(2D), se-ali(3D) array afirandin."
   ]
  },
  {
   "cell_type": "code",
   "execution_count": 42,
   "id": "978ce8d1",
   "metadata": {},
   "outputs": [
    {
     "data": {
      "text/plain": [
       "2-element Vector{Vector{Int64}}:\n",
       " [1, 2, 3]\n",
       " [4, 5, 6]"
      ]
     },
     "execution_count": 42,
     "metadata": {},
     "output_type": "execute_result"
    }
   ],
   "source": [
    "du_ali = [[1,2,3],[4,5,6]]"
   ]
  },
  {
   "cell_type": "markdown",
   "id": "a1125979",
   "metadata": {},
   "source": [
    "Di minak du-ali da em array pesiye da \"2\" hilbijerin."
   ]
  },
  {
   "cell_type": "code",
   "execution_count": 46,
   "id": "828acab5",
   "metadata": {},
   "outputs": [
    {
     "data": {
      "text/plain": [
       "2"
      ]
     },
     "execution_count": 46,
     "metadata": {},
     "output_type": "execute_result"
    }
   ],
   "source": [
    "du_ali[1][2]"
   ]
  },
  {
   "cell_type": "code",
   "execution_count": 48,
   "id": "4099286f",
   "metadata": {},
   "outputs": [
    {
     "data": {
      "text/plain": [
       "6"
      ]
     },
     "execution_count": 48,
     "metadata": {},
     "output_type": "execute_result"
    }
   ],
   "source": [
    "du_ali[2][3] # Di minak du-ali da em array \"6\" hilbijerin."
   ]
  },
  {
   "cell_type": "code",
   "execution_count": 50,
   "id": "f3ea1ee3",
   "metadata": {},
   "outputs": [
    {
     "data": {
      "text/plain": [
       "3-element Vector{Vector{Int64}}:\n",
       " [1, 2, 3]\n",
       " [4, 5, 6]\n",
       " [7, 8, 9]"
      ]
     },
     "execution_count": 50,
     "metadata": {},
     "output_type": "execute_result"
    }
   ],
   "source": [
    "se_ali=[[1,2,3],[4,5,6],[7,8,9]]"
   ]
  },
  {
   "cell_type": "code",
   "execution_count": 52,
   "id": "c057d17c",
   "metadata": {},
   "outputs": [
    {
     "data": {
      "text/plain": [
       "8"
      ]
     },
     "execution_count": 52,
     "metadata": {},
     "output_type": "execute_result"
    }
   ],
   "source": [
    "se_ali[3][2] # em dixwazin 8 hilbejerin"
   ]
  },
  {
   "cell_type": "code",
   "execution_count": 53,
   "id": "3ad2d06b",
   "metadata": {},
   "outputs": [
    {
     "data": {
      "text/plain": [
       "4"
      ]
     },
     "execution_count": 53,
     "metadata": {},
     "output_type": "execute_result"
    }
   ],
   "source": [
    "se_ali[2][1] # em dixwazin 4 hilbejerin"
   ]
  },
  {
   "cell_type": "markdown",
   "id": "659171eb",
   "metadata": {},
   "source": [
    "Em dikarin bepayin(random) array afirandin"
   ]
  },
  {
   "cell_type": "code",
   "execution_count": 56,
   "id": "27a020d0",
   "metadata": {},
   "outputs": [
    {
     "data": {
      "text/plain": [
       "3×5 Matrix{Float64}:\n",
       " 0.793951  0.501319  0.414593  0.886687  0.0501419\n",
       " 0.314162  0.43269   0.726306  0.44586   0.724082\n",
       " 0.225286  0.926009  0.155099  0.148543  0.458355"
      ]
     },
     "execution_count": 56,
     "metadata": {},
     "output_type": "execute_result"
    }
   ],
   "source": [
    "# rand du navbere 0 u 1 bepayin jimaran tine\n",
    "# rand da jimare pesi reze, jimara pasiye stune. rez 3, stun 5\n",
    "rand(3,5) "
   ]
  },
  {
   "cell_type": "code",
   "execution_count": 59,
   "id": "3216274d",
   "metadata": {},
   "outputs": [
    {
     "data": {
      "text/plain": [
       "4×6×2 Array{Float64, 3}:\n",
       "[:, :, 1] =\n",
       " 0.676868   0.117526  0.309569   0.249644   0.1144     0.845927\n",
       " 0.822563   0.415253  0.650358   0.748507   0.296377   0.0283158\n",
       " 0.653781   0.959256  0.0265405  0.0760824  0.0876805  0.00274538\n",
       " 0.0409259  0.453112  0.321892   0.323192   0.0816102  0.590024\n",
       "\n",
       "[:, :, 2] =\n",
       " 0.294261  0.498361   0.573094  0.258947  0.935397  0.243371\n",
       " 0.293367  0.0635128  0.474991  0.76343   0.905871  0.174073\n",
       " 0.812566  0.962699   0.085034  0.886277  0.110769  0.390164\n",
       " 0.603857  0.532162   0.942386  0.183243  0.326248  0.884407"
      ]
     },
     "execution_count": 59,
     "metadata": {},
     "output_type": "execute_result"
    }
   ],
   "source": [
    "# jimare me nu nivisand, ew ji array'a me cend ali be awi jimere dibeje\n",
    "\n",
    "rand(4,6,2)"
   ]
  },
  {
   "cell_type": "code",
   "execution_count": null,
   "id": "f8403eea",
   "metadata": {},
   "outputs": [],
   "source": []
  },
  {
   "cell_type": "code",
   "execution_count": null,
   "id": "9a3b5fa7",
   "metadata": {},
   "outputs": [],
   "source": []
  },
  {
   "cell_type": "code",
   "execution_count": null,
   "id": "0643c75d",
   "metadata": {},
   "outputs": [],
   "source": []
  }
 ],
 "metadata": {
  "kernelspec": {
   "display_name": "Julia 1.8.3",
   "language": "julia",
   "name": "julia-1.8"
  },
  "language_info": {
   "file_extension": ".jl",
   "mimetype": "application/julia",
   "name": "julia",
   "version": "1.8.3"
  }
 },
 "nbformat": 4,
 "nbformat_minor": 5
}
