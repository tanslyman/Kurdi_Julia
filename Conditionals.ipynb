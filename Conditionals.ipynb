{
 "cells": [
  {
   "cell_type": "markdown",
   "id": "2896feab",
   "metadata": {},
   "source": [
    "# Conditionals (qayidek)\n",
    "\n",
    "Condotional programe da qayidek nisan dikin. Em dibejin bila we qayideke program bixebite. Dema ew qayidek nexebiti bila we qayideke bixebite. ava berdevam dike\n",
    "\n",
    "syntax\n",
    "\n",
    "```julia\n",
    "if *condition 1*\n",
    "    *option 1*\n",
    "elseif *condition 2*\n",
    "    *option 2*\n",
    "else\n",
    "    *option 3*\n",
    "end\n",
    "```"
   ]
  },
  {
   "cell_type": "markdown",
   "id": "4ace93d7",
   "metadata": {},
   "source": [
    "Minak:\n",
    "\n",
    "ka em jimareke binivisini. eger ew jimare wekhevi 2 be, bila jimare wekhevi 2'ye binivisine. em angori wi berdevam "
   ]
  },
  {
   "cell_type": "code",
   "execution_count": 3,
   "id": "f4cf075f",
   "metadata": {},
   "outputs": [
    {
     "data": {
      "text/plain": [
       "2"
      ]
     },
     "execution_count": 3,
     "metadata": {},
     "output_type": "execute_result"
    }
   ],
   "source": [
    "a = 2"
   ]
  },
  {
   "cell_type": "code",
   "execution_count": 5,
   "id": "87ddf6be",
   "metadata": {},
   "outputs": [
    {
     "name": "stdout",
     "output_type": "stream",
     "text": [
      "a wekhevi 2'ya ye\n"
     ]
    }
   ],
   "source": [
    "if a == 1\n",
    "    println(\"a wekhevi 1'i ye\")\n",
    "elseif a == 2\n",
    "    println(\"a wekhevi 2'ya ye\")\n",
    "elseif a == 3\n",
    "    println(\"a wekhevi 3'ya ye\")\n",
    "else\n",
    "    println()\n",
    "end"
   ]
  },
  {
   "cell_type": "code",
   "execution_count": 6,
   "id": "f06be906",
   "metadata": {},
   "outputs": [
    {
     "name": "stdout",
     "output_type": "stream",
     "text": [
      "y zedetire ji x'e\n"
     ]
    }
   ],
   "source": [
    "x = 5\n",
    "y = 12\n",
    "\n",
    "if x > y\n",
    "    println(\"x zedetire ji y'ye\")\n",
    "elseif y > x\n",
    "    println(\"y zedetire ji x'e\")\n",
    "else\n",
    "    println(\"x u y wekhvi hene\")\n",
    "end"
   ]
  },
  {
   "cell_type": "markdown",
   "id": "b3e649c9",
   "metadata": {},
   "source": [
    "em ji 1 hate 20 hijmaren bigirin. 2 hab array nisan bikin. dema jimare xerib bu bila array xerib da binivisine, na jimare cot bu bila  array cot da binivisine"
   ]
  },
  {
   "cell_type": "code",
   "execution_count": 15,
   "id": "2c8a7c2c",
   "metadata": {},
   "outputs": [],
   "source": [
    "array_xerib = []\n",
    "array_cot = []\n",
    "\n",
    "for i in 1:20\n",
    "    if i % 2 == 0\n",
    "        array_cot = push!(array_cot,i)\n",
    "    else\n",
    "        array_xerib = push!(array_xerib,i)\n",
    "    end\n",
    "        \n",
    "end"
   ]
  },
  {
   "cell_type": "code",
   "execution_count": 16,
   "id": "616d60c3",
   "metadata": {},
   "outputs": [
    {
     "data": {
      "text/plain": [
       "10-element Vector{Any}:\n",
       "  1\n",
       "  3\n",
       "  5\n",
       "  7\n",
       "  9\n",
       " 11\n",
       " 13\n",
       " 15\n",
       " 17\n",
       " 19"
      ]
     },
     "execution_count": 16,
     "metadata": {},
     "output_type": "execute_result"
    }
   ],
   "source": [
    "array_xerib"
   ]
  },
  {
   "cell_type": "code",
   "execution_count": 17,
   "id": "a8cfe3b9",
   "metadata": {},
   "outputs": [
    {
     "data": {
      "text/plain": [
       "10-element Vector{Any}:\n",
       "  2\n",
       "  4\n",
       "  6\n",
       "  8\n",
       " 10\n",
       " 12\n",
       " 14\n",
       " 16\n",
       " 18\n",
       " 20"
      ]
     },
     "execution_count": 17,
     "metadata": {},
     "output_type": "execute_result"
    }
   ],
   "source": [
    "array_cot"
   ]
  }
 ],
 "metadata": {
  "kernelspec": {
   "display_name": "Julia 1.8.3",
   "language": "julia",
   "name": "julia-1.8"
  },
  "language_info": {
   "file_extension": ".jl",
   "mimetype": "application/julia",
   "name": "julia",
   "version": "1.8.3"
  }
 },
 "nbformat": 4,
 "nbformat_minor": 5
}
