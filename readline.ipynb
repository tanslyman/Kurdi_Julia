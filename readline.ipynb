{
 "cells": [
  {
   "cell_type": "markdown",
   "id": "307a0337",
   "metadata": {},
   "source": [
    "# READLINE\n",
    "\n",
    "carinan pêdivî ye ku bikarhêner bi bernameyê re têkilî daynin. Julia ji bo vê yekê rêbazên \"readline û readlines\" pêşkêşî me dike."
   ]
  },
  {
   "cell_type": "code",
   "execution_count": 3,
   "id": "d952dbe9",
   "metadata": {},
   "outputs": [
    {
     "name": "stdout",
     "output_type": "stream",
     "text": [
      "Nave te ciye? \n",
      "stdin> Mazlum\n",
      "Nave te Mazlum'e \n"
     ]
    }
   ],
   "source": [
    "println(\"Nave te ciye? \")\n",
    "nav = readline()\n",
    "\n",
    "println(\"Nave te $nav'e \")"
   ]
  },
  {
   "cell_type": "code",
   "execution_count": 5,
   "id": "c015b4ba",
   "metadata": {},
   "outputs": [
    {
     "name": "stdout",
     "output_type": "stream",
     "text": [
      "Wa kijan zimane bernamekirine em hin dibin? \n",
      "stdin> Julia\n",
      "Julia hin dibin...\n"
     ]
    }
   ],
   "source": [
    "println(\"Wa kijan zimane bernamekirine em hin dibin? \")\n",
    "bersiv = readline()\n",
    "println(\"$bersiv hin dibin...\")"
   ]
  },
  {
   "cell_type": "markdown",
   "id": "a0ed40c4",
   "metadata": {},
   "source": [
    "Dema minak ji dane dixwazin ew daneyen \"string\" te xwendin. Em bijen em dixwazin jimare binivisinin. Em ji ew \"string\" xwe vedigerinin \"int\" ya ji \"float\""
   ]
  },
  {
   "cell_type": "markdown",
   "id": "a4fdf50c",
   "metadata": {},
   "source": [
    "Minak: Em dixwazin bila bernamame ji me jimarek bistine. Em ji we jimare koman bikin 10 ra\n"
   ]
  },
  {
   "cell_type": "code",
   "execution_count": 10,
   "id": "7096a613",
   "metadata": {},
   "outputs": [
    {
     "name": "stdout",
     "output_type": "stream",
     "text": [
      "Kerema xwe, jimarek binivisine..\n",
      "stdin> 12\n",
      "22\n"
     ]
    }
   ],
   "source": [
    "println(\"Kerema xwe, jimarek binivisine..\")\n",
    "\n",
    "jimar = readline()\n",
    "jimar = parse(Int64, jimar)\n",
    "\n",
    "println(jimar + 10)"
   ]
  },
  {
   "cell_type": "code",
   "execution_count": null,
   "id": "a1c202ab",
   "metadata": {},
   "outputs": [],
   "source": []
  },
  {
   "cell_type": "code",
   "execution_count": null,
   "id": "0e09573d",
   "metadata": {},
   "outputs": [],
   "source": []
  },
  {
   "cell_type": "code",
   "execution_count": null,
   "id": "d8e3013d",
   "metadata": {},
   "outputs": [],
   "source": []
  },
  {
   "cell_type": "code",
   "execution_count": null,
   "id": "5e8b868c",
   "metadata": {},
   "outputs": [],
   "source": []
  },
  {
   "cell_type": "code",
   "execution_count": null,
   "id": "f3e2f3d9",
   "metadata": {},
   "outputs": [],
   "source": []
  },
  {
   "cell_type": "code",
   "execution_count": null,
   "id": "f8a8a091",
   "metadata": {},
   "outputs": [],
   "source": []
  },
  {
   "cell_type": "code",
   "execution_count": null,
   "id": "5bc2cfc0",
   "metadata": {},
   "outputs": [],
   "source": []
  },
  {
   "cell_type": "code",
   "execution_count": null,
   "id": "fec0a43e",
   "metadata": {},
   "outputs": [],
   "source": []
  },
  {
   "cell_type": "code",
   "execution_count": null,
   "id": "4c0562c5",
   "metadata": {},
   "outputs": [],
   "source": []
  }
 ],
 "metadata": {
  "kernelspec": {
   "display_name": "Julia 1.8.3",
   "language": "julia",
   "name": "julia-1.8"
  },
  "language_info": {
   "file_extension": ".jl",
   "mimetype": "application/julia",
   "name": "julia",
   "version": "1.8.3"
  }
 },
 "nbformat": 4,
 "nbformat_minor": 5
}
